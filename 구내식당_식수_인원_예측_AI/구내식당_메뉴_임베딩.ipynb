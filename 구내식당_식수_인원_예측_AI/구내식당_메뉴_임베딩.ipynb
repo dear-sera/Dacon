{
  "nbformat": 4,
  "nbformat_minor": 0,
  "metadata": {
    "colab": {
      "name": "구내식당_메뉴_임베딩.ipynb",
      "provenance": [],
      "mount_file_id": "13pEy3KlN1TgEYvcMtNjmfLYIu90Vv495",
      "authorship_tag": "ABX9TyP0ISYRgFYKVZFscjducexY",
      "include_colab_link": true
    },
    "kernelspec": {
      "name": "python3",
      "display_name": "Python 3"
    },
    "language_info": {
      "name": "python"
    },
    "accelerator": "GPU"
  },
  "cells": [
    {
      "cell_type": "markdown",
      "metadata": {
        "id": "view-in-github",
        "colab_type": "text"
      },
      "source": [
        "<a href=\"https://colab.research.google.com/github/sera0911/Dacon/blob/main/%EA%B5%AC%EB%82%B4%EC%8B%9D%EB%8B%B9_%EC%8B%9D%EC%88%98_%EC%9D%B8%EC%9B%90_%EC%98%88%EC%B8%A1_AI/%EA%B5%AC%EB%82%B4%EC%8B%9D%EB%8B%B9_%EB%A9%94%EB%89%B4_%EC%9E%84%EB%B2%A0%EB%94%A9.ipynb\" target=\"_parent\"><img src=\"https://colab.research.google.com/assets/colab-badge.svg\" alt=\"Open In Colab\"/></a>"
      ]
    },
    {
      "cell_type": "code",
      "metadata": {
        "id": "m0adQsRjCg8B",
        "colab": {
          "base_uri": "https://localhost:8080/"
        },
        "outputId": "c9a14dd3-8750-4a72-f4a3-21ee17db0756"
      },
      "source": [
        "import pandas as pd\n",
        "import numpy as np\n",
        "import matplotlib.pyplot as plt\n",
        "from tqdm import tqdm\n",
        "from sklearn.preprocessing import LabelEncoder\n",
        "from sklearn.model_selection import train_test_split\n",
        "from sklearn.metrics import mean_absolute_error\n",
        "from lightgbm import LGBMRegressor\n",
        "\n",
        "from gensim.models import Word2Vec\n",
        "from gensim.models import KeyedVectors\n",
        "from sklearn.manifold import TSNE\n",
        "from sklearn.decomposition import PCA"
      ],
      "execution_count": 3,
      "outputs": [
        {
          "output_type": "stream",
          "text": [
            "/usr/local/lib/python3.7/dist-packages/gensim/similarities/__init__.py:15: UserWarning: The gensim.similarities.levenshtein submodule is disabled, because the optional Levenshtein package <https://pypi.org/project/python-Levenshtein/> is unavailable. Install Levenhstein (e.g. `pip install python-Levenshtein`) to suppress this warning.\n",
            "  warnings.warn(msg)\n"
          ],
          "name": "stderr"
        }
      ]
    },
    {
      "cell_type": "code",
      "metadata": {
        "id": "hcLQs3jKCkpE"
      },
      "source": [
        "# HYPER PARAMETERS\n",
        "\n",
        "class CFG:\n",
        "    emb_dim = 200\n",
        "\n",
        "args = CFG"
      ],
      "execution_count": 4,
      "outputs": []
    },
    {
      "cell_type": "code",
      "metadata": {
        "id": "I7OzQY_FClrr"
      },
      "source": [
        "df_train = pd.read_csv('/content/drive/MyDrive/구내식당AI/train.csv')\n",
        "df_test = pd.read_csv('/content/drive/MyDrive/구내식당AI/test.csv')"
      ],
      "execution_count": 27,
      "outputs": []
    },
    {
      "cell_type": "code",
      "metadata": {
        "colab": {
          "base_uri": "https://localhost:8080/"
        },
        "id": "K7m7MEbUH_cZ",
        "outputId": "54c32fc0-1dbb-414e-ad65-b0e80a02a7b3"
      },
      "source": [
        "df_train.info()"
      ],
      "execution_count": 35,
      "outputs": [
        {
          "output_type": "stream",
          "text": [
            "<class 'pandas.core.frame.DataFrame'>\n",
            "RangeIndex: 1205 entries, 0 to 1204\n",
            "Data columns (total 12 columns):\n",
            " #   Column          Non-Null Count  Dtype  \n",
            "---  ------          --------------  -----  \n",
            " 0   일자              1205 non-null   object \n",
            " 1   요일              1205 non-null   object \n",
            " 2   본사정원수           1205 non-null   int64  \n",
            " 3   본사휴가자수          1205 non-null   int64  \n",
            " 4   본사출장자수          1205 non-null   int64  \n",
            " 5   본사시간외근무명령서승인건수  1205 non-null   int64  \n",
            " 6   현본사소속재택근무자수     1205 non-null   float64\n",
            " 7   조식메뉴            1205 non-null   object \n",
            " 8   중식메뉴            1205 non-null   object \n",
            " 9   석식메뉴            1205 non-null   object \n",
            " 10  중식계             1205 non-null   float64\n",
            " 11  석식계             1205 non-null   float64\n",
            "dtypes: float64(3), int64(4), object(5)\n",
            "memory usage: 113.1+ KB\n"
          ],
          "name": "stdout"
        }
      ]
    },
    {
      "cell_type": "code",
      "metadata": {
        "id": "FaLU7JAUCnHE"
      },
      "source": [
        "\n",
        "#Word Embedding\n",
        "\n",
        "df_all = pd.concat([df_train, df_test])"
      ],
      "execution_count": 6,
      "outputs": []
    },
    {
      "cell_type": "code",
      "metadata": {
        "id": "-YUZhF8aCtvU"
      },
      "source": [
        "# Basic text preprocessing\n",
        "\n",
        "def split_process(x, q):\n",
        "    x_ = []\n",
        "    x = x.split(' ')\n",
        "    for i in x:\n",
        "        if '(' in i and ':' in i and ')' in i:\n",
        "            continue\n",
        "        if '/' in i:\n",
        "            x_.extend(i.split('/'))\n",
        "        else:\n",
        "            x_.append(i)\n",
        "    x_ = list(set(x_))\n",
        "    x_.remove('')\n",
        "    return x_"
      ],
      "execution_count": 7,
      "outputs": []
    },
    {
      "cell_type": "code",
      "metadata": {
        "id": "EPQ9Qy3qCw29"
      },
      "source": [
        "# Get all combinations for training w2v (train + test)\n",
        "\n",
        "food_combinations = []\n",
        "for i in ['조식메뉴', '중식메뉴', '석식메뉴']:\n",
        "    food_combinations += df_all[i].apply(lambda x: split_process(x, i)).to_list()"
      ],
      "execution_count": 8,
      "outputs": []
    },
    {
      "cell_type": "markdown",
      "metadata": {
        "id": "CzGwlT80GMN1"
      },
      "source": [
        "모델 로드"
      ]
    },
    {
      "cell_type": "code",
      "metadata": {
        "colab": {
          "base_uri": "https://localhost:8080/"
        },
        "id": "yAlYW6-QCy70",
        "outputId": "c22bc917-36f2-4f67-ad8c-da35d949cc97"
      },
      "source": [
        "# Train or load w2v model\n",
        "\n",
        "TRAIN_W2V = True\n",
        "try:\n",
        "    model = Word2Vec.load('food_embedding.model')\n",
        "    print(\"Model loaded\")\n",
        "except:\n",
        "    if TRAIN_W2V:\n",
        "        print(\"Training w2v\")\n",
        "        model = Word2Vec(sentences=food_combinations, vector_size=args.emb_dim, window=7, min_count=0, workers=4, sg=0, epochs=5000)\n",
        "        model.save('food_embedding.model')\n",
        "    else:\n",
        "        print(\"Model loading failed. Do not train.\")"
      ],
      "execution_count": 9,
      "outputs": [
        {
          "output_type": "stream",
          "text": [
            "Training w2v\n"
          ],
          "name": "stdout"
        }
      ]
    },
    {
      "cell_type": "code",
      "metadata": {
        "colab": {
          "base_uri": "https://localhost:8080/"
        },
        "id": "vlzqi7IHECkV",
        "outputId": "876796b9-bb34-43b1-9e10-29b4f7653828"
      },
      "source": [
        "import gensim\n",
        "print(gensim.__version__)"
      ],
      "execution_count": 10,
      "outputs": [
        {
          "output_type": "stream",
          "text": [
            "4.0.1\n"
          ],
          "name": "stdout"
        }
      ]
    },
    {
      "cell_type": "code",
      "metadata": {
        "colab": {
          "base_uri": "https://localhost:8080/"
        },
        "id": "RJ0v_-3FGO7Q",
        "outputId": "f3ed7b76-a074-41c9-9969-4fe88366594f"
      },
      "source": [
        "# w2v demo\n",
        "model.wv.most_similar('된장찌개')"
      ],
      "execution_count": 12,
      "outputs": [
        {
          "output_type": "execute_result",
          "data": {
            "text/plain": [
              "[('차돌박이찌개', 0.6190884709358215),\n",
              " ('고추장찌개', 0.5447655320167542),\n",
              " ('민물새우찌개', 0.5435724258422852),\n",
              " ('감자국', 0.5434396266937256),\n",
              " ('조랭이떡미역국', 0.5377963185310364),\n",
              " ('오징어국', 0.523558497428894),\n",
              " ('소고기무국', 0.5183340311050415),\n",
              " ('김치두부국', 0.5149896144866943),\n",
              " ('콩나물국', 0.5129185914993286),\n",
              " ('동태탕', 0.5122365355491638)]"
            ]
          },
          "metadata": {
            "tags": []
          },
          "execution_count": 12
        }
      ]
    },
    {
      "cell_type": "markdown",
      "metadata": {
        "id": "pgZR8TquGSvc"
      },
      "source": [
        "Preprocess"
      ]
    },
    {
      "cell_type": "code",
      "metadata": {
        "id": "V3rHr_ypGShO"
      },
      "source": [
        "def process_date(df):\n",
        "    df['일자'] = pd.to_datetime(df['일자'], format=\"%Y-%m-%d\")\n",
        "    df['year'] = df['일자'].dt.year\n",
        "    df['month'] = df['일자'].dt.month\n",
        "    df['day'] = df['일자'].dt.day\n",
        "    df = df.drop('일자', axis=1)\n",
        "    return df\n",
        "\n",
        "def get_food_embedding(x):\n",
        "    x_ = []\n",
        "    x = x.split(' ')\n",
        "    for i in x:\n",
        "        if '(' in i and ':' in i and ')' in i:\n",
        "            continue\n",
        "        if '/' in i:\n",
        "            x_.extend(i.split('/'))\n",
        "        else:\n",
        "            x_.append(i)\n",
        "    x_ = list(set(x_))\n",
        "    x_.remove('')\n",
        "    vec_ = np.zeros(args.emb_dim)\n",
        "    for i in x_:\n",
        "        vec = model.wv.get_vector(i)\n",
        "        vec_ += vec\n",
        "    vec_ /= len(x_)\n",
        "    return vec_"
      ],
      "execution_count": 13,
      "outputs": []
    },
    {
      "cell_type": "code",
      "metadata": {
        "id": "3SK8AdyDGWLD"
      },
      "source": [
        "# General preprocessing\n",
        "df_train = process_date(df_train)\n",
        "day_encoder = LabelEncoder()\n",
        "df_train['요일'] = day_encoder.fit_transform(df_train['요일'])"
      ],
      "execution_count": 14,
      "outputs": []
    },
    {
      "cell_type": "code",
      "metadata": {
        "id": "Fj0tHpmvGWII"
      },
      "source": [
        "# Get embedding\n",
        "df_train['조식메뉴_embedding'] = df_train['조식메뉴'].apply(lambda x: get_food_embedding(x))\n",
        "df_train['중식메뉴_embedding'] = df_train['중식메뉴'].apply(lambda x: get_food_embedding(x))\n",
        "df_train['석식메뉴_embedding'] = df_train['석식메뉴'].apply(lambda x: get_food_embedding(x))"
      ],
      "execution_count": 15,
      "outputs": []
    },
    {
      "cell_type": "code",
      "metadata": {
        "id": "rbdP1PazGWFR"
      },
      "source": [
        "y_lunch = df_train['중식계']\n",
        "y_dinner = df_train['석식계']\n",
        "df_train.drop(['조식메뉴', '중식메뉴', '석식메뉴', '중식계', '석식계'], axis=1, inplace=True)"
      ],
      "execution_count": 16,
      "outputs": []
    },
    {
      "cell_type": "code",
      "metadata": {
        "id": "P8aTfUFQGWCs"
      },
      "source": [
        "X_common = df_train.iloc[:, :9]"
      ],
      "execution_count": 17,
      "outputs": []
    },
    {
      "cell_type": "code",
      "metadata": {
        "id": "zzgr38JOGWAM"
      },
      "source": [
        "# emb_arr_lunch = np.array(df_train.iloc[:, 9].to_numpy().tolist()) + np.array(df_train.iloc[:, 10].to_numpy().tolist()) # Ver 1\n",
        "# emb_arr_dinner = np.array(df_train.iloc[:, 9].to_numpy().tolist()) + np.array(df_train.iloc[:, 11].to_numpy().tolist()) # Ver 1\n",
        "emb_arr_lunch = np.array(df_train.iloc[:, 10].to_numpy().tolist()) # Ver 2\n",
        "emb_arr_dinner = np.array(df_train.iloc[:, 11].to_numpy().tolist()) # Ver 2\n",
        "\n",
        "X_train_lunch = np.concatenate((X_common.to_numpy(), emb_arr_lunch), axis=1)\n",
        "X_train_dinner = np.concatenate((X_common.to_numpy(), emb_arr_dinner), axis=1)"
      ],
      "execution_count": 18,
      "outputs": []
    },
    {
      "cell_type": "code",
      "metadata": {
        "id": "5H-0U0OIGV9e"
      },
      "source": [
        "X_train_lunch, X_test_lunch, y_train_lunch, y_test_lunch = train_test_split(X_train_lunch, y_lunch, test_size=0.1, random_state=42)\n",
        "X_train_dinner, X_test_dinner, y_train_dinner, y_test_dinner = train_test_split(X_train_dinner, y_dinner, test_size=0.1, random_state=42)"
      ],
      "execution_count": 19,
      "outputs": []
    },
    {
      "cell_type": "markdown",
      "metadata": {
        "id": "sqkHz4GRGff9"
      },
      "source": [
        "Modeling"
      ]
    },
    {
      "cell_type": "code",
      "metadata": {
        "colab": {
          "base_uri": "https://localhost:8080/"
        },
        "id": "kheW9MtRGfyI",
        "outputId": "c50e11da-c3bb-4633-bd98-cc93d411117e"
      },
      "source": [
        "# Simple LGBM Regressor w/o tuning\n",
        "model_lunch = LGBMRegressor()\n",
        "model_lunch.fit(X_train_lunch, y_train_lunch)\n",
        "\n",
        "model_dinner = LGBMRegressor()\n",
        "model_dinner.fit(X_train_dinner, y_train_dinner)\n",
        "\n",
        "# Validate\n",
        "pred_lunch = model_lunch.predict(X_test_lunch)\n",
        "pred_dinner = model_dinner.predict(X_test_dinner)\n",
        "\n",
        "print(\"lunch mae: \", mean_absolute_error(y_test_lunch, pred_lunch))\n",
        "print(\"dinner mae: \", mean_absolute_error(y_test_dinner, pred_dinner))"
      ],
      "execution_count": 20,
      "outputs": [
        {
          "output_type": "stream",
          "text": [
            "lunch mae:  82.75869900998593\n",
            "dinner mae:  49.12638814735154\n"
          ],
          "name": "stdout"
        }
      ]
    },
    {
      "cell_type": "markdown",
      "metadata": {
        "id": "y0lbUGqnGj2m"
      },
      "source": [
        "Inference"
      ]
    },
    {
      "cell_type": "code",
      "metadata": {
        "id": "JCe-OGdmGf7f"
      },
      "source": [
        "df_test = pd.read_csv('/content/drive/MyDrive/구내식당AI/test.csv')\n",
        "\n",
        "# Apply general preprocessing\n",
        "df_test= process_date(df_test)\n",
        "df_test['요일'] = day_encoder.transform(df_test['요일'])\n",
        "df_test['조식메뉴_embedding'] = df_test['조식메뉴'].apply(lambda x: get_food_embedding(x))\n",
        "df_test['중식메뉴_embedding'] = df_test['중식메뉴'].apply(lambda x: get_food_embedding(x))\n",
        "df_test['석식메뉴_embedding'] = df_test['석식메뉴'].apply(lambda x: get_food_embedding(x))\n",
        "df_test.drop(['조식메뉴', '중식메뉴', '석식메뉴'], axis=1, inplace=True)\n",
        "X_test_common = df_test.iloc[:, :9]"
      ],
      "execution_count": 21,
      "outputs": []
    },
    {
      "cell_type": "code",
      "metadata": {
        "id": "VJGUBt7LGf4v"
      },
      "source": [
        "emb_arr_lunch = np.array(df_train.iloc[:, 10].to_numpy().tolist()) # Ver 2\n",
        "emb_arr_dinner = np.array(df_train.iloc[:, 11].to_numpy().tolist()) # Ver 2"
      ],
      "execution_count": 22,
      "outputs": []
    },
    {
      "cell_type": "code",
      "metadata": {
        "id": "EngY-AOBGf1Q"
      },
      "source": [
        "# Get embedding\n",
        "test_emb_arr_lunch = np.array(df_test.iloc[:, 10].to_numpy().tolist()) # Ver 2\n",
        "test_emb_arr_dinner = np.array(df_test.iloc[:, 11].to_numpy().tolist()) # Ver 2\n",
        "# Concat\n",
        "test_lunch = np.concatenate((X_test_common.to_numpy(), test_emb_arr_lunch), axis=1)\n",
        "test_dinner = np.concatenate((X_test_common.to_numpy(), test_emb_arr_dinner), axis=1)"
      ],
      "execution_count": 23,
      "outputs": []
    },
    {
      "cell_type": "code",
      "metadata": {
        "id": "RkXaOLQ9GV6s"
      },
      "source": [
        "# Inference\n",
        "\n",
        "test_pred_lunch = model_lunch.predict(test_lunch)\n",
        "test_pred_dinner = model_dinner.predict(test_dinner)\n",
        "\n",
        "submission_df = pd.read_csv('/content/drive/MyDrive/구내식당AI/sample_submission.csv')\n",
        "submission_df['중식계'] = test_pred_lunch\n",
        "submission_df['석식계'] = test_pred_dinner"
      ],
      "execution_count": 24,
      "outputs": []
    },
    {
      "cell_type": "code",
      "metadata": {
        "id": "lATQEEmqGsGy"
      },
      "source": [
        "# Save\n",
        "\n",
        "submission_df.to_csv('sub_메뉴_임베딩.csv', index=False)"
      ],
      "execution_count": 25,
      "outputs": []
    }
  ]
}