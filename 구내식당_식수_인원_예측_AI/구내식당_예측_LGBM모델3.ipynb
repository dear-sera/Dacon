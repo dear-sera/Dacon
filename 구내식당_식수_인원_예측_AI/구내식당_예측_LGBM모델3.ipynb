{
  "nbformat": 4,
  "nbformat_minor": 0,
  "metadata": {
    "colab": {
      "name": "구내식당_식수_인원_예측_AI/구내식당_예측_LGBM모델3.ipynb",
      "provenance": [],
      "collapsed_sections": [
        "_EiUe30SViEq",
        "ZFjR65PTVkRV"
      ],
      "mount_file_id": "1olKn-kDu9JjZLGaQyzuHPumc1BCMAcTD",
      "authorship_tag": "ABX9TyN7WdXc9+/jooLDgipgMtDh",
      "include_colab_link": true
    },
    "kernelspec": {
      "name": "python3",
      "display_name": "Python 3"
    },
    "language_info": {
      "name": "python"
    },
    "accelerator": "GPU"
  },
  "cells": [
    {
      "cell_type": "markdown",
      "metadata": {
        "id": "view-in-github",
        "colab_type": "text"
      },
      "source": [
        "<a href=\"https://colab.research.google.com/github/sera0911/Dacon/blob/main/%EA%B5%AC%EB%82%B4%EC%8B%9D%EB%8B%B9_%EC%8B%9D%EC%88%98_%EC%9D%B8%EC%9B%90_%EC%98%88%EC%B8%A1_AI/%EA%B5%AC%EB%82%B4%EC%8B%9D%EB%8B%B9_%EC%98%88%EC%B8%A1_LGBM%EB%AA%A8%EB%8D%B83.ipynb\" target=\"_parent\"><img src=\"https://colab.research.google.com/assets/colab-badge.svg\" alt=\"Open In Colab\"/></a>"
      ]
    },
    {
      "cell_type": "markdown",
      "metadata": {
        "id": "2Cm2ipLlPizi"
      },
      "source": [
        "##식수인원 수치데이터로만 예측해보기"
      ]
    },
    {
      "cell_type": "code",
      "metadata": {
        "colab": {
          "base_uri": "https://localhost:8080/"
        },
        "id": "AbiLxBkgO13-",
        "outputId": "b110e192-8529-4635-d8d7-7d7862bc20aa"
      },
      "source": [
        "#모듈 불러오기\n",
        "\n",
        "%matplotlib inline\n",
        "import pandas as pd\n",
        "import numpy as np\n",
        "import matplotlib.pyplot as plt \n",
        "import matplotlib as mpl\n",
        "import matplotlib.font_manager as fm\n",
        "import seaborn as sns\n",
        "\n",
        "%config InlineBackend.figure_format = 'retina'\n",
        " \n",
        "!apt -qq -y install fonts-nanum\n",
        " \n",
        "fontpath = '/usr/share/fonts/truetype/nanum/NanumBarunGothic.ttf'\n",
        "font = fm.FontProperties(fname=fontpath, size=9)\n",
        "plt.rc('font', family='NanumBarunGothic') \n",
        "mpl.font_manager._rebuild()\n",
        "\n",
        "import warnings\n",
        "warnings.filterwarnings(action='ignore')"
      ],
      "execution_count": null,
      "outputs": [
        {
          "output_type": "stream",
          "text": [
            "The following NEW packages will be installed:\n",
            "  fonts-nanum\n",
            "0 upgraded, 1 newly installed, 0 to remove and 39 not upgraded.\n",
            "Need to get 9,604 kB of archives.\n",
            "After this operation, 29.5 MB of additional disk space will be used.\n",
            "Selecting previously unselected package fonts-nanum.\n",
            "(Reading database ... 160772 files and directories currently installed.)\n",
            "Preparing to unpack .../fonts-nanum_20170925-1_all.deb ...\n",
            "Unpacking fonts-nanum (20170925-1) ...\n",
            "Setting up fonts-nanum (20170925-1) ...\n",
            "Processing triggers for fontconfig (2.12.6-0ubuntu2) ...\n"
          ],
          "name": "stdout"
        }
      ]
    },
    {
      "cell_type": "code",
      "metadata": {
        "id": "AjRpFpETPjaS"
      },
      "source": [
        "#데이터 불러오기\n",
        "\n",
        "train = pd.read_csv('/content/drive/MyDrive/구내식당AI/train.csv')\n",
        "test = pd.read_csv('/content/drive/MyDrive/구내식당AI/test.csv')"
      ],
      "execution_count": null,
      "outputs": []
    },
    {
      "cell_type": "code",
      "metadata": {
        "colab": {
          "base_uri": "https://localhost:8080/",
          "height": 210
        },
        "id": "PTnHdXxOPjXk",
        "outputId": "90a5c822-234e-43bd-928c-39e03b390ace"
      },
      "source": [
        "#데이터확인하기\n",
        "train.head(3)"
      ],
      "execution_count": null,
      "outputs": [
        {
          "output_type": "execute_result",
          "data": {
            "text/html": [
              "<div>\n",
              "<style scoped>\n",
              "    .dataframe tbody tr th:only-of-type {\n",
              "        vertical-align: middle;\n",
              "    }\n",
              "\n",
              "    .dataframe tbody tr th {\n",
              "        vertical-align: top;\n",
              "    }\n",
              "\n",
              "    .dataframe thead th {\n",
              "        text-align: right;\n",
              "    }\n",
              "</style>\n",
              "<table border=\"1\" class=\"dataframe\">\n",
              "  <thead>\n",
              "    <tr style=\"text-align: right;\">\n",
              "      <th></th>\n",
              "      <th>일자</th>\n",
              "      <th>요일</th>\n",
              "      <th>본사정원수</th>\n",
              "      <th>본사휴가자수</th>\n",
              "      <th>본사출장자수</th>\n",
              "      <th>본사시간외근무명령서승인건수</th>\n",
              "      <th>현본사소속재택근무자수</th>\n",
              "      <th>조식메뉴</th>\n",
              "      <th>중식메뉴</th>\n",
              "      <th>석식메뉴</th>\n",
              "      <th>중식계</th>\n",
              "      <th>석식계</th>\n",
              "    </tr>\n",
              "  </thead>\n",
              "  <tbody>\n",
              "    <tr>\n",
              "      <th>0</th>\n",
              "      <td>2016-02-01</td>\n",
              "      <td>월</td>\n",
              "      <td>2601</td>\n",
              "      <td>50</td>\n",
              "      <td>150</td>\n",
              "      <td>238</td>\n",
              "      <td>0.0</td>\n",
              "      <td>모닝롤/찐빵  우유/두유/주스 계란후라이  호두죽/쌀밥 (쌀:국내산) 된장찌개  쥐...</td>\n",
              "      <td>쌀밥/잡곡밥 (쌀,현미흑미:국내산) 오징어찌개  쇠불고기 (쇠고기:호주산) 계란찜 ...</td>\n",
              "      <td>쌀밥/잡곡밥 (쌀,현미흑미:국내산) 육개장  자반고등어구이  두부조림  건파래무침 ...</td>\n",
              "      <td>1039.0</td>\n",
              "      <td>331.0</td>\n",
              "    </tr>\n",
              "    <tr>\n",
              "      <th>1</th>\n",
              "      <td>2016-02-02</td>\n",
              "      <td>화</td>\n",
              "      <td>2601</td>\n",
              "      <td>50</td>\n",
              "      <td>173</td>\n",
              "      <td>319</td>\n",
              "      <td>0.0</td>\n",
              "      <td>모닝롤/단호박샌드  우유/두유/주스 계란후라이  팥죽/쌀밥 (쌀:국내산) 호박젓국찌...</td>\n",
              "      <td>쌀밥/잡곡밥 (쌀,현미흑미:국내산) 김치찌개  가자미튀김  모둠소세지구이  마늘쫑무...</td>\n",
              "      <td>콩나물밥*양념장 (쌀,현미흑미:국내산) 어묵국  유산슬 (쇠고기:호주산) 아삭고추무...</td>\n",
              "      <td>867.0</td>\n",
              "      <td>560.0</td>\n",
              "    </tr>\n",
              "    <tr>\n",
              "      <th>2</th>\n",
              "      <td>2016-02-03</td>\n",
              "      <td>수</td>\n",
              "      <td>2601</td>\n",
              "      <td>56</td>\n",
              "      <td>180</td>\n",
              "      <td>111</td>\n",
              "      <td>0.0</td>\n",
              "      <td>모닝롤/베이글  우유/두유/주스 계란후라이  표고버섯죽/쌀밥 (쌀:국내산) 콩나물국...</td>\n",
              "      <td>카레덮밥 (쌀,현미흑미:국내산) 팽이장국  치킨핑거 (닭고기:국내산) 쫄면야채무침 ...</td>\n",
              "      <td>쌀밥/잡곡밥 (쌀,현미흑미:국내산) 청국장찌개  황태양념구이 (황태:러시아산) 고기...</td>\n",
              "      <td>1017.0</td>\n",
              "      <td>573.0</td>\n",
              "    </tr>\n",
              "  </tbody>\n",
              "</table>\n",
              "</div>"
            ],
            "text/plain": [
              "           일자 요일  ...     중식계    석식계\n",
              "0  2016-02-01  월  ...  1039.0  331.0\n",
              "1  2016-02-02  화  ...   867.0  560.0\n",
              "2  2016-02-03  수  ...  1017.0  573.0\n",
              "\n",
              "[3 rows x 12 columns]"
            ]
          },
          "metadata": {
            "tags": []
          },
          "execution_count": 4
        }
      ]
    },
    {
      "cell_type": "code",
      "metadata": {
        "colab": {
          "base_uri": "https://localhost:8080/"
        },
        "id": "HFiWuJ3vPjRr",
        "outputId": "0d31f5fe-7ddc-49c9-8f61-9ab4f3e26017"
      },
      "source": [
        "train.info()"
      ],
      "execution_count": null,
      "outputs": [
        {
          "output_type": "stream",
          "text": [
            "<class 'pandas.core.frame.DataFrame'>\n",
            "RangeIndex: 1205 entries, 0 to 1204\n",
            "Data columns (total 12 columns):\n",
            " #   Column          Non-Null Count  Dtype  \n",
            "---  ------          --------------  -----  \n",
            " 0   일자              1205 non-null   object \n",
            " 1   요일              1205 non-null   object \n",
            " 2   본사정원수           1205 non-null   int64  \n",
            " 3   본사휴가자수          1205 non-null   int64  \n",
            " 4   본사출장자수          1205 non-null   int64  \n",
            " 5   본사시간외근무명령서승인건수  1205 non-null   int64  \n",
            " 6   현본사소속재택근무자수     1205 non-null   float64\n",
            " 7   조식메뉴            1205 non-null   object \n",
            " 8   중식메뉴            1205 non-null   object \n",
            " 9   석식메뉴            1205 non-null   object \n",
            " 10  중식계             1205 non-null   float64\n",
            " 11  석식계             1205 non-null   float64\n",
            "dtypes: float64(3), int64(4), object(5)\n",
            "memory usage: 113.1+ KB\n"
          ],
          "name": "stdout"
        }
      ]
    },
    {
      "cell_type": "markdown",
      "metadata": {
        "id": "St3kJq89R2AL"
      },
      "source": [
        "##데이터 정제\n",
        "\n",
        "1. 조식, 중식, 석식메뉴는 버리기 (drop)\n",
        "2. 일자, 요일은 라벨 인코딩 (숫자형으로 변환)"
      ]
    },
    {
      "cell_type": "code",
      "metadata": {
        "id": "23Xy4ySOPjMS"
      },
      "source": [
        "#조식, 중식, 석식메뉴 drop\n",
        "\n",
        "drops = ['조식메뉴', '중식메뉴', '석식메뉴']\n",
        "\n",
        "train = train.drop(drops, axis=1)\n",
        "test = test.drop(drops, axis=1)"
      ],
      "execution_count": null,
      "outputs": []
    },
    {
      "cell_type": "code",
      "metadata": {
        "colab": {
          "base_uri": "https://localhost:8080/",
          "height": 142
        },
        "id": "E8PYoi0MPjJ1",
        "outputId": "f0203dac-edc1-4109-9c81-c59b43e21804"
      },
      "source": [
        "#정제 데이터 확인\n",
        "train.head(3)"
      ],
      "execution_count": null,
      "outputs": [
        {
          "output_type": "execute_result",
          "data": {
            "text/html": [
              "<div>\n",
              "<style scoped>\n",
              "    .dataframe tbody tr th:only-of-type {\n",
              "        vertical-align: middle;\n",
              "    }\n",
              "\n",
              "    .dataframe tbody tr th {\n",
              "        vertical-align: top;\n",
              "    }\n",
              "\n",
              "    .dataframe thead th {\n",
              "        text-align: right;\n",
              "    }\n",
              "</style>\n",
              "<table border=\"1\" class=\"dataframe\">\n",
              "  <thead>\n",
              "    <tr style=\"text-align: right;\">\n",
              "      <th></th>\n",
              "      <th>일자</th>\n",
              "      <th>요일</th>\n",
              "      <th>본사정원수</th>\n",
              "      <th>본사휴가자수</th>\n",
              "      <th>본사출장자수</th>\n",
              "      <th>본사시간외근무명령서승인건수</th>\n",
              "      <th>현본사소속재택근무자수</th>\n",
              "      <th>중식계</th>\n",
              "      <th>석식계</th>\n",
              "    </tr>\n",
              "  </thead>\n",
              "  <tbody>\n",
              "    <tr>\n",
              "      <th>0</th>\n",
              "      <td>2016-02-01</td>\n",
              "      <td>월</td>\n",
              "      <td>2601</td>\n",
              "      <td>50</td>\n",
              "      <td>150</td>\n",
              "      <td>238</td>\n",
              "      <td>0.0</td>\n",
              "      <td>1039.0</td>\n",
              "      <td>331.0</td>\n",
              "    </tr>\n",
              "    <tr>\n",
              "      <th>1</th>\n",
              "      <td>2016-02-02</td>\n",
              "      <td>화</td>\n",
              "      <td>2601</td>\n",
              "      <td>50</td>\n",
              "      <td>173</td>\n",
              "      <td>319</td>\n",
              "      <td>0.0</td>\n",
              "      <td>867.0</td>\n",
              "      <td>560.0</td>\n",
              "    </tr>\n",
              "    <tr>\n",
              "      <th>2</th>\n",
              "      <td>2016-02-03</td>\n",
              "      <td>수</td>\n",
              "      <td>2601</td>\n",
              "      <td>56</td>\n",
              "      <td>180</td>\n",
              "      <td>111</td>\n",
              "      <td>0.0</td>\n",
              "      <td>1017.0</td>\n",
              "      <td>573.0</td>\n",
              "    </tr>\n",
              "  </tbody>\n",
              "</table>\n",
              "</div>"
            ],
            "text/plain": [
              "           일자 요일  본사정원수  본사휴가자수  ...  본사시간외근무명령서승인건수  현본사소속재택근무자수     중식계    석식계\n",
              "0  2016-02-01  월   2601      50  ...             238          0.0  1039.0  331.0\n",
              "1  2016-02-02  화   2601      50  ...             319          0.0   867.0  560.0\n",
              "2  2016-02-03  수   2601      56  ...             111          0.0  1017.0  573.0\n",
              "\n",
              "[3 rows x 9 columns]"
            ]
          },
          "metadata": {
            "tags": []
          },
          "execution_count": 7
        }
      ]
    },
    {
      "cell_type": "code",
      "metadata": {
        "id": "ioVMh1PJPjHo"
      },
      "source": [
        "#일자, 요일은 라벨 인코딩 (숫자형으로 변환)\n",
        "\n",
        "train['월'] = pd.DatetimeIndex(train['일자']).month  #일자에서 달만 인덱스해서 넣어준다\n",
        "test['월'] = pd.DatetimeIndex(test['일자']).month\n",
        "\n",
        "train['일'] = pd.DatetimeIndex(train['일자']).day  #일자에서 일만 인덱스해서 넣어준다\n",
        "test['일'] = pd.DatetimeIndex(test['일자']).day"
      ],
      "execution_count": null,
      "outputs": []
    },
    {
      "cell_type": "code",
      "metadata": {
        "id": "WSMaPUwuSbtQ"
      },
      "source": [
        "weekday = {   #요일을 라벨을 붙여서 매핑해주기\n",
        "    '월': 1,\n",
        "    '화': 2,\n",
        "    '수': 3,\n",
        "    '목': 4,\n",
        "    '금': 5\n",
        "}\n",
        "\n",
        "train['요일'] = train['요일'].map(weekday)\n",
        "test['요일'] = test['요일'].map(weekday)"
      ],
      "execution_count": null,
      "outputs": []
    },
    {
      "cell_type": "code",
      "metadata": {
        "colab": {
          "base_uri": "https://localhost:8080/",
          "height": 204
        },
        "id": "VHQyoHpXSbrF",
        "outputId": "282b6c3d-cfbc-42a9-91d6-de7f85ef82a3"
      },
      "source": [
        "#데이터 확인\n",
        "train.head()"
      ],
      "execution_count": null,
      "outputs": [
        {
          "output_type": "execute_result",
          "data": {
            "text/html": [
              "<div>\n",
              "<style scoped>\n",
              "    .dataframe tbody tr th:only-of-type {\n",
              "        vertical-align: middle;\n",
              "    }\n",
              "\n",
              "    .dataframe tbody tr th {\n",
              "        vertical-align: top;\n",
              "    }\n",
              "\n",
              "    .dataframe thead th {\n",
              "        text-align: right;\n",
              "    }\n",
              "</style>\n",
              "<table border=\"1\" class=\"dataframe\">\n",
              "  <thead>\n",
              "    <tr style=\"text-align: right;\">\n",
              "      <th></th>\n",
              "      <th>일자</th>\n",
              "      <th>요일</th>\n",
              "      <th>본사정원수</th>\n",
              "      <th>본사휴가자수</th>\n",
              "      <th>본사출장자수</th>\n",
              "      <th>본사시간외근무명령서승인건수</th>\n",
              "      <th>현본사소속재택근무자수</th>\n",
              "      <th>중식계</th>\n",
              "      <th>석식계</th>\n",
              "      <th>월</th>\n",
              "      <th>일</th>\n",
              "    </tr>\n",
              "  </thead>\n",
              "  <tbody>\n",
              "    <tr>\n",
              "      <th>0</th>\n",
              "      <td>2016-02-01</td>\n",
              "      <td>1</td>\n",
              "      <td>2601</td>\n",
              "      <td>50</td>\n",
              "      <td>150</td>\n",
              "      <td>238</td>\n",
              "      <td>0.0</td>\n",
              "      <td>1039.0</td>\n",
              "      <td>331.0</td>\n",
              "      <td>2</td>\n",
              "      <td>1</td>\n",
              "    </tr>\n",
              "    <tr>\n",
              "      <th>1</th>\n",
              "      <td>2016-02-02</td>\n",
              "      <td>2</td>\n",
              "      <td>2601</td>\n",
              "      <td>50</td>\n",
              "      <td>173</td>\n",
              "      <td>319</td>\n",
              "      <td>0.0</td>\n",
              "      <td>867.0</td>\n",
              "      <td>560.0</td>\n",
              "      <td>2</td>\n",
              "      <td>2</td>\n",
              "    </tr>\n",
              "    <tr>\n",
              "      <th>2</th>\n",
              "      <td>2016-02-03</td>\n",
              "      <td>3</td>\n",
              "      <td>2601</td>\n",
              "      <td>56</td>\n",
              "      <td>180</td>\n",
              "      <td>111</td>\n",
              "      <td>0.0</td>\n",
              "      <td>1017.0</td>\n",
              "      <td>573.0</td>\n",
              "      <td>2</td>\n",
              "      <td>3</td>\n",
              "    </tr>\n",
              "    <tr>\n",
              "      <th>3</th>\n",
              "      <td>2016-02-04</td>\n",
              "      <td>4</td>\n",
              "      <td>2601</td>\n",
              "      <td>104</td>\n",
              "      <td>220</td>\n",
              "      <td>355</td>\n",
              "      <td>0.0</td>\n",
              "      <td>978.0</td>\n",
              "      <td>525.0</td>\n",
              "      <td>2</td>\n",
              "      <td>4</td>\n",
              "    </tr>\n",
              "    <tr>\n",
              "      <th>4</th>\n",
              "      <td>2016-02-05</td>\n",
              "      <td>5</td>\n",
              "      <td>2601</td>\n",
              "      <td>278</td>\n",
              "      <td>181</td>\n",
              "      <td>34</td>\n",
              "      <td>0.0</td>\n",
              "      <td>925.0</td>\n",
              "      <td>330.0</td>\n",
              "      <td>2</td>\n",
              "      <td>5</td>\n",
              "    </tr>\n",
              "  </tbody>\n",
              "</table>\n",
              "</div>"
            ],
            "text/plain": [
              "           일자  요일  본사정원수  본사휴가자수  본사출장자수  ...  현본사소속재택근무자수     중식계    석식계  월  일\n",
              "0  2016-02-01   1   2601      50     150  ...          0.0  1039.0  331.0  2  1\n",
              "1  2016-02-02   2   2601      50     173  ...          0.0   867.0  560.0  2  2\n",
              "2  2016-02-03   3   2601      56     180  ...          0.0  1017.0  573.0  2  3\n",
              "3  2016-02-04   4   2601     104     220  ...          0.0   978.0  525.0  2  4\n",
              "4  2016-02-05   5   2601     278     181  ...          0.0   925.0  330.0  2  5\n",
              "\n",
              "[5 rows x 11 columns]"
            ]
          },
          "metadata": {
            "tags": []
          },
          "execution_count": 10
        }
      ]
    },
    {
      "cell_type": "markdown",
      "metadata": {
        "id": "nMKuY2tyTKx9"
      },
      "source": [
        "## 데이터 정제\n",
        "\n",
        "- 휴가자, 재택근무자는 중식/석식에 참여하지 않을 것이므로 본사정원수에서 차감한다.\n",
        "\n",
        "- 즉, 본사정원수 - 휴가자 - 재택근무자\n",
        "\n",
        "- 식사참여율 = 식사계 / 식사가능자수"
      ]
    },
    {
      "cell_type": "code",
      "metadata": {
        "id": "svxaKBwUSbnp"
      },
      "source": [
        "#식사가능자수 구하기\n",
        "\n",
        "train['식사가능자수'] = train['본사정원수'] - train['본사휴가자수'] - train['현본사소속재택근무자수']\n",
        "test['식사가능자수'] = test['본사정원수'] - test['본사휴가자수'] - test['현본사소속재택근무자수']"
      ],
      "execution_count": null,
      "outputs": []
    },
    {
      "cell_type": "code",
      "metadata": {
        "id": "D7CdnJRKSbjO"
      },
      "source": [
        "#식사 참여율 구하기\n",
        "\n",
        "train['중식참여율'] = train['중식계'] / train['식사가능자수']\n",
        "train['석식참여율'] = train['석식계'] / train['식사가능자수']"
      ],
      "execution_count": null,
      "outputs": []
    },
    {
      "cell_type": "code",
      "metadata": {
        "id": "T3Xpxhe-Sbg7"
      },
      "source": [
        "#최종 전처리 데이터 정리(필요한 칼럼만 데이터로 사용)\n",
        "\n",
        "features = ['월', '일', '요일', '식사가능자수', '본사출장자수', '본사시간외근무명령서승인건수']\n",
        "labels = ['중식계',\t'석식계', '중식참여율', '석식참여율']\n",
        "\n",
        "train = train[features+labels]\n",
        "test = test[features]"
      ],
      "execution_count": null,
      "outputs": []
    },
    {
      "cell_type": "code",
      "metadata": {
        "colab": {
          "base_uri": "https://localhost:8080/",
          "height": 204
        },
        "id": "xcQZskMkSbfC",
        "outputId": "7652dc0a-56a4-4d65-9de5-fe5adacb7709"
      },
      "source": [
        "train.head()"
      ],
      "execution_count": null,
      "outputs": [
        {
          "output_type": "execute_result",
          "data": {
            "text/html": [
              "<div>\n",
              "<style scoped>\n",
              "    .dataframe tbody tr th:only-of-type {\n",
              "        vertical-align: middle;\n",
              "    }\n",
              "\n",
              "    .dataframe tbody tr th {\n",
              "        vertical-align: top;\n",
              "    }\n",
              "\n",
              "    .dataframe thead th {\n",
              "        text-align: right;\n",
              "    }\n",
              "</style>\n",
              "<table border=\"1\" class=\"dataframe\">\n",
              "  <thead>\n",
              "    <tr style=\"text-align: right;\">\n",
              "      <th></th>\n",
              "      <th>월</th>\n",
              "      <th>일</th>\n",
              "      <th>요일</th>\n",
              "      <th>식사가능자수</th>\n",
              "      <th>본사출장자수</th>\n",
              "      <th>본사시간외근무명령서승인건수</th>\n",
              "      <th>중식계</th>\n",
              "      <th>석식계</th>\n",
              "      <th>중식참여율</th>\n",
              "      <th>석식참여율</th>\n",
              "    </tr>\n",
              "  </thead>\n",
              "  <tbody>\n",
              "    <tr>\n",
              "      <th>0</th>\n",
              "      <td>2</td>\n",
              "      <td>1</td>\n",
              "      <td>1</td>\n",
              "      <td>2551.0</td>\n",
              "      <td>150</td>\n",
              "      <td>238</td>\n",
              "      <td>1039.0</td>\n",
              "      <td>331.0</td>\n",
              "      <td>0.407291</td>\n",
              "      <td>0.129753</td>\n",
              "    </tr>\n",
              "    <tr>\n",
              "      <th>1</th>\n",
              "      <td>2</td>\n",
              "      <td>2</td>\n",
              "      <td>2</td>\n",
              "      <td>2551.0</td>\n",
              "      <td>173</td>\n",
              "      <td>319</td>\n",
              "      <td>867.0</td>\n",
              "      <td>560.0</td>\n",
              "      <td>0.339867</td>\n",
              "      <td>0.219522</td>\n",
              "    </tr>\n",
              "    <tr>\n",
              "      <th>2</th>\n",
              "      <td>2</td>\n",
              "      <td>3</td>\n",
              "      <td>3</td>\n",
              "      <td>2545.0</td>\n",
              "      <td>180</td>\n",
              "      <td>111</td>\n",
              "      <td>1017.0</td>\n",
              "      <td>573.0</td>\n",
              "      <td>0.399607</td>\n",
              "      <td>0.225147</td>\n",
              "    </tr>\n",
              "    <tr>\n",
              "      <th>3</th>\n",
              "      <td>2</td>\n",
              "      <td>4</td>\n",
              "      <td>4</td>\n",
              "      <td>2497.0</td>\n",
              "      <td>220</td>\n",
              "      <td>355</td>\n",
              "      <td>978.0</td>\n",
              "      <td>525.0</td>\n",
              "      <td>0.391670</td>\n",
              "      <td>0.210252</td>\n",
              "    </tr>\n",
              "    <tr>\n",
              "      <th>4</th>\n",
              "      <td>2</td>\n",
              "      <td>5</td>\n",
              "      <td>5</td>\n",
              "      <td>2323.0</td>\n",
              "      <td>181</td>\n",
              "      <td>34</td>\n",
              "      <td>925.0</td>\n",
              "      <td>330.0</td>\n",
              "      <td>0.398192</td>\n",
              "      <td>0.142058</td>\n",
              "    </tr>\n",
              "  </tbody>\n",
              "</table>\n",
              "</div>"
            ],
            "text/plain": [
              "   월  일  요일  식사가능자수  본사출장자수  본사시간외근무명령서승인건수     중식계    석식계     중식참여율     석식참여율\n",
              "0  2  1   1  2551.0     150             238  1039.0  331.0  0.407291  0.129753\n",
              "1  2  2   2  2551.0     173             319   867.0  560.0  0.339867  0.219522\n",
              "2  2  3   3  2545.0     180             111  1017.0  573.0  0.399607  0.225147\n",
              "3  2  4   4  2497.0     220             355   978.0  525.0  0.391670  0.210252\n",
              "4  2  5   5  2323.0     181              34   925.0  330.0  0.398192  0.142058"
            ]
          },
          "metadata": {
            "tags": []
          },
          "execution_count": 14
        }
      ]
    },
    {
      "cell_type": "code",
      "metadata": {
        "colab": {
          "base_uri": "https://localhost:8080/",
          "height": 204
        },
        "id": "JNQHiihsSbcR",
        "outputId": "9c02176d-4646-4495-8025-87be9b7941b8"
      },
      "source": [
        "test.head()"
      ],
      "execution_count": null,
      "outputs": [
        {
          "output_type": "execute_result",
          "data": {
            "text/html": [
              "<div>\n",
              "<style scoped>\n",
              "    .dataframe tbody tr th:only-of-type {\n",
              "        vertical-align: middle;\n",
              "    }\n",
              "\n",
              "    .dataframe tbody tr th {\n",
              "        vertical-align: top;\n",
              "    }\n",
              "\n",
              "    .dataframe thead th {\n",
              "        text-align: right;\n",
              "    }\n",
              "</style>\n",
              "<table border=\"1\" class=\"dataframe\">\n",
              "  <thead>\n",
              "    <tr style=\"text-align: right;\">\n",
              "      <th></th>\n",
              "      <th>월</th>\n",
              "      <th>일</th>\n",
              "      <th>요일</th>\n",
              "      <th>식사가능자수</th>\n",
              "      <th>본사출장자수</th>\n",
              "      <th>본사시간외근무명령서승인건수</th>\n",
              "    </tr>\n",
              "  </thead>\n",
              "  <tbody>\n",
              "    <tr>\n",
              "      <th>0</th>\n",
              "      <td>1</td>\n",
              "      <td>27</td>\n",
              "      <td>3</td>\n",
              "      <td>2537.0</td>\n",
              "      <td>182</td>\n",
              "      <td>5</td>\n",
              "    </tr>\n",
              "    <tr>\n",
              "      <th>1</th>\n",
              "      <td>1</td>\n",
              "      <td>28</td>\n",
              "      <td>4</td>\n",
              "      <td>2531.0</td>\n",
              "      <td>212</td>\n",
              "      <td>409</td>\n",
              "    </tr>\n",
              "    <tr>\n",
              "      <th>2</th>\n",
              "      <td>1</td>\n",
              "      <td>29</td>\n",
              "      <td>5</td>\n",
              "      <td>2419.0</td>\n",
              "      <td>249</td>\n",
              "      <td>0</td>\n",
              "    </tr>\n",
              "    <tr>\n",
              "      <th>3</th>\n",
              "      <td>2</td>\n",
              "      <td>1</td>\n",
              "      <td>1</td>\n",
              "      <td>2494.0</td>\n",
              "      <td>154</td>\n",
              "      <td>538</td>\n",
              "    </tr>\n",
              "    <tr>\n",
              "      <th>4</th>\n",
              "      <td>2</td>\n",
              "      <td>2</td>\n",
              "      <td>2</td>\n",
              "      <td>2548.0</td>\n",
              "      <td>186</td>\n",
              "      <td>455</td>\n",
              "    </tr>\n",
              "  </tbody>\n",
              "</table>\n",
              "</div>"
            ],
            "text/plain": [
              "   월   일  요일  식사가능자수  본사출장자수  본사시간외근무명령서승인건수\n",
              "0  1  27   3  2537.0     182               5\n",
              "1  1  28   4  2531.0     212             409\n",
              "2  1  29   5  2419.0     249               0\n",
              "3  2   1   1  2494.0     154             538\n",
              "4  2   2   2  2548.0     186             455"
            ]
          },
          "metadata": {
            "tags": []
          },
          "execution_count": 15
        }
      ]
    },
    {
      "cell_type": "markdown",
      "metadata": {
        "id": "22ehqZoUT4rq"
      },
      "source": [
        "##EDA, 시각화, 상관관계분석\n"
      ]
    },
    {
      "cell_type": "markdown",
      "metadata": {
        "id": "ongfOxtDYBCY"
      },
      "source": [
        "## 모델 만들기"
      ]
    },
    {
      "cell_type": "code",
      "metadata": {
        "colab": {
          "base_uri": "https://localhost:8080/",
          "height": 204
        },
        "id": "N_K97fCMXzTE",
        "outputId": "cd90604f-e70b-48aa-9305-19b54563dc29"
      },
      "source": [
        "#제출용 데이터 가져오기\n",
        "\n",
        "submit = pd.read_csv('/content/drive/MyDrive/구내식당AI/sample_submission.csv')\n",
        "submit.head()"
      ],
      "execution_count": null,
      "outputs": [
        {
          "output_type": "execute_result",
          "data": {
            "text/html": [
              "<div>\n",
              "<style scoped>\n",
              "    .dataframe tbody tr th:only-of-type {\n",
              "        vertical-align: middle;\n",
              "    }\n",
              "\n",
              "    .dataframe tbody tr th {\n",
              "        vertical-align: top;\n",
              "    }\n",
              "\n",
              "    .dataframe thead th {\n",
              "        text-align: right;\n",
              "    }\n",
              "</style>\n",
              "<table border=\"1\" class=\"dataframe\">\n",
              "  <thead>\n",
              "    <tr style=\"text-align: right;\">\n",
              "      <th></th>\n",
              "      <th>일자</th>\n",
              "      <th>중식계</th>\n",
              "      <th>석식계</th>\n",
              "    </tr>\n",
              "  </thead>\n",
              "  <tbody>\n",
              "    <tr>\n",
              "      <th>0</th>\n",
              "      <td>2021-01-27</td>\n",
              "      <td>0</td>\n",
              "      <td>0</td>\n",
              "    </tr>\n",
              "    <tr>\n",
              "      <th>1</th>\n",
              "      <td>2021-01-28</td>\n",
              "      <td>0</td>\n",
              "      <td>0</td>\n",
              "    </tr>\n",
              "    <tr>\n",
              "      <th>2</th>\n",
              "      <td>2021-01-29</td>\n",
              "      <td>0</td>\n",
              "      <td>0</td>\n",
              "    </tr>\n",
              "    <tr>\n",
              "      <th>3</th>\n",
              "      <td>2021-02-01</td>\n",
              "      <td>0</td>\n",
              "      <td>0</td>\n",
              "    </tr>\n",
              "    <tr>\n",
              "      <th>4</th>\n",
              "      <td>2021-02-02</td>\n",
              "      <td>0</td>\n",
              "      <td>0</td>\n",
              "    </tr>\n",
              "  </tbody>\n",
              "</table>\n",
              "</div>"
            ],
            "text/plain": [
              "           일자  중식계  석식계\n",
              "0  2021-01-27    0    0\n",
              "1  2021-01-28    0    0\n",
              "2  2021-01-29    0    0\n",
              "3  2021-02-01    0    0\n",
              "4  2021-02-02    0    0"
            ]
          },
          "metadata": {
            "tags": []
          },
          "execution_count": 16
        }
      ]
    },
    {
      "cell_type": "code",
      "metadata": {
        "id": "xD-dI6SMcKSB"
      },
      "source": [
        "from sklearn.model_selection import train_test_split, KFold, cross_val_score, RandomizedSearchCV\n",
        "from lightgbm import LGBMRegressor\n",
        "\n",
        "# 과적합을 방지하기 위해 KFold 사용\n",
        "kfold = KFold(n_splits=5, shuffle=True)\n",
        "\n",
        "# LightGBM Regressor 사용\n",
        "lgbmr = LGBMRegressor()\n",
        "\n",
        "# 파라미터들 dict 형태로 정의\n",
        "param = {\n",
        "    'max_depth': [10, 20, -1], # 트리의 최대 깊이  / 과적합 제어\n",
        "    'learning_rate': [0.1, 0.05], # 학습률\n",
        "    'num_leaves': [64,128, 196], # 각 트리가 가질 수 있는 최대 리프의 개수 / 정확도 및 복잡률과 비례\n",
        "    'n_estimators': [2000, 3000], # 반복 수행하는 트리의 개수\n",
        "    }\n",
        "\n",
        "# RandomizedSearchCV를 사용해 하이퍼 파라미터 최적화\n",
        "lunch_model = RandomizedSearchCV(lgbmr, # 사용 모델\n",
        "                                scoring='r2', # 학습에 사용할 손실 함수\n",
        "                                n_iter=500, # 파라미터별 학습 수\n",
        "                                param_distributions=param, # 파라미터\n",
        "                                cv=kfold, # 폴드 값에 KFold 객체 할당\n",
        "                                return_train_score=True, # 학습 결과 리턴\n",
        "                                verbose=2)\n",
        "\n",
        "x = train[['월', '일', '요일', '식사가능자수', '본사출장자수', '본사시간외근무명령서승인건수']]\n",
        "y = train['중식계']\n",
        "\n",
        "# GridSearch 하면서 모든 파라미터값들에 대해 학습 수행\n",
        "lunch_model.fit(x, y)\n",
        "print(lunch_model.best_score_, lunch_model.best_params_)\n",
        "lunch_model = lunch_model.best_estimator_"
      ],
      "execution_count": null,
      "outputs": []
    },
    {
      "cell_type": "code",
      "metadata": {
        "colab": {
          "base_uri": "https://localhost:8080/"
        },
        "id": "T1tNgWWh1DgY",
        "outputId": "a5151127-72f1-4247-8dee-321b7d936ba4"
      },
      "source": [
        "from google.colab import drive\n",
        "drive.mount('/content/drive')"
      ],
      "execution_count": null,
      "outputs": [
        {
          "output_type": "stream",
          "text": [
            "Drive already mounted at /content/drive; to attempt to forcibly remount, call drive.mount(\"/content/drive\", force_remount=True).\n"
          ],
          "name": "stdout"
        }
      ]
    },
    {
      "cell_type": "code",
      "metadata": {
        "id": "QgYFxP2UXzIT"
      },
      "source": [
        "#모델 적용시켜 예측하기\n",
        "\n",
        "test_x = test[['월', '일', '요일', '식사가능자수', '본사출장자수', '본사시간외근무명령서승인건수']]\n",
        "y_pred = lunch_model.predict(test_x)"
      ],
      "execution_count": null,
      "outputs": []
    },
    {
      "cell_type": "code",
      "metadata": {
        "colab": {
          "base_uri": "https://localhost:8080/"
        },
        "id": "shSEpFR1aou4",
        "outputId": "1549fddc-bd4c-4aa0-c650-eeff28fa193e"
      },
      "source": [
        "print(y_pred)"
      ],
      "execution_count": null,
      "outputs": [
        {
          "output_type": "stream",
          "text": [
            "[1094.30314557 1055.31790366  508.84817702 1208.13880352  979.03087189\n",
            " 1093.30475923  982.04357215  698.6250346  1248.00663149 1088.08548277\n",
            "  874.71777792 1411.21458577 1148.58248359 1185.23249143  907.19229436\n",
            "  745.9733428  1280.33993749 1028.6904104   875.81132686  957.83212987\n",
            "  636.85991889 1072.20491485 1100.48800356 1001.92354606  619.99259376\n",
            " 1286.68649918 1048.8314301  1067.16163735 1073.77421044  625.23341344\n",
            " 1321.72090073 1017.01289973 1180.3177598   918.58680742  653.96777643\n",
            " 1264.32372881  875.52187217 1004.42122604  934.96089179  624.40453799\n",
            " 1262.32306036  986.25468551 1064.2681485   908.17092167  644.8143271\n",
            " 1236.79052418 1062.81900468 1093.16463393  985.67646274  617.21570823]\n"
          ],
          "name": "stdout"
        }
      ]
    },
    {
      "cell_type": "code",
      "metadata": {
        "id": "XKVBoTevXzFu"
      },
      "source": [
        "submit['중식계'] = y_pred"
      ],
      "execution_count": null,
      "outputs": []
    },
    {
      "cell_type": "code",
      "metadata": {
        "id": "lYtkZHeidAbp"
      },
      "source": [
        "lgbmr = LGBMRegressor()\n",
        "\n",
        "# 파라미터들 dict 형태로 정의\n",
        "param = {\n",
        "    'max_depth': [10, 20, -1], # 트리의 최대 깊이  / 과적합 제어\n",
        "    'learning_rate': [0.1, 0.05], # 학습률\n",
        "    'num_leaves': [64,128, 196], # 각 트리가 가질 수 있는 최대 리프의 개수 / 정확도 및 복잡률과 비례\n",
        "    'n_estimators': [2000, 3000], # 반복 수행하는 트리의 개수\n",
        "    }\n",
        "\n",
        "# RandomizedSearchCV를 사용해 하이퍼 파라미터 최적화\n",
        "dinner_model = RandomizedSearchCV(lgbmr, # 사용 모델\n",
        "                                scoring='r2', # 학습에 사용할 손실 함수\n",
        "                                n_iter=500, # 파라미터별 학습 수\n",
        "                                param_distributions=param, # 파라미터\n",
        "                                cv=kfold, # 폴드 값에 KFold 객체 할당\n",
        "                                return_train_score=True, # 학습 결과 리턴\n",
        "                                verbose=2)\n",
        "\n",
        "x = train[['월', '일', '요일', '식사가능자수', '본사출장자수', '본사시간외근무명령서승인건수']]\n",
        "y = train['석식계']\n",
        "\n",
        "# GridSearch 하면서 모든 파라미터값들에 대해 학습 수행\n",
        "dinner_model.fit(x, y)\n",
        "print(dinner_model.best_score_, dinner_model.best_params_)\n",
        "dinner_model = dinner_model.best_estimator_"
      ],
      "execution_count": null,
      "outputs": []
    },
    {
      "cell_type": "code",
      "metadata": {
        "id": "WATW6F-cWggX"
      },
      "source": [
        "#모델 적용시켜 예측하기\n",
        "\n",
        "test_x = test[['월', '일', '요일', '식사가능자수', '본사출장자수', '본사시간외근무명령서승인건수']]\n",
        "y_pred = dinner_model.predict(test_x)"
      ],
      "execution_count": null,
      "outputs": []
    },
    {
      "cell_type": "code",
      "metadata": {
        "id": "p_suc-vdWgeT"
      },
      "source": [
        "submit['석식계'] = y_pred"
      ],
      "execution_count": null,
      "outputs": []
    },
    {
      "cell_type": "code",
      "metadata": {
        "colab": {
          "base_uri": "https://localhost:8080/",
          "height": 17
        },
        "id": "uwD22qN1Wgb6",
        "outputId": "77f4b5ef-41af-49c8-a88f-5c8dcba65d36"
      },
      "source": [
        "#예측한 모델결과 저장하기\n",
        "\n",
        "submit.to_csv('/content/drive/MyDrive/구내식당AI/LGBM_submit4.csv', index=False)\n",
        "\n",
        "from google.colab import files\n",
        "\n",
        "files.download('/content/drive/MyDrive/구내식당AI/LGBM_submit4.csv')"
      ],
      "execution_count": null,
      "outputs": [
        {
          "output_type": "display_data",
          "data": {
            "application/javascript": [
              "\n",
              "    async function download(id, filename, size) {\n",
              "      if (!google.colab.kernel.accessAllowed) {\n",
              "        return;\n",
              "      }\n",
              "      const div = document.createElement('div');\n",
              "      const label = document.createElement('label');\n",
              "      label.textContent = `Downloading \"${filename}\": `;\n",
              "      div.appendChild(label);\n",
              "      const progress = document.createElement('progress');\n",
              "      progress.max = size;\n",
              "      div.appendChild(progress);\n",
              "      document.body.appendChild(div);\n",
              "\n",
              "      const buffers = [];\n",
              "      let downloaded = 0;\n",
              "\n",
              "      const channel = await google.colab.kernel.comms.open(id);\n",
              "      // Send a message to notify the kernel that we're ready.\n",
              "      channel.send({})\n",
              "\n",
              "      for await (const message of channel.messages) {\n",
              "        // Send a message to notify the kernel that we're ready.\n",
              "        channel.send({})\n",
              "        if (message.buffers) {\n",
              "          for (const buffer of message.buffers) {\n",
              "            buffers.push(buffer);\n",
              "            downloaded += buffer.byteLength;\n",
              "            progress.value = downloaded;\n",
              "          }\n",
              "        }\n",
              "      }\n",
              "      const blob = new Blob(buffers, {type: 'application/binary'});\n",
              "      const a = document.createElement('a');\n",
              "      a.href = window.URL.createObjectURL(blob);\n",
              "      a.download = filename;\n",
              "      div.appendChild(a);\n",
              "      a.click();\n",
              "      div.remove();\n",
              "    }\n",
              "  "
            ],
            "text/plain": [
              "<IPython.core.display.Javascript object>"
            ]
          },
          "metadata": {
            "tags": []
          }
        },
        {
          "output_type": "display_data",
          "data": {
            "application/javascript": [
              "download(\"download_89745139-c2ff-42d7-9821-fef33dfa0582\", \"LGBM_submit4.csv\", 2402)"
            ],
            "text/plain": [
              "<IPython.core.display.Javascript object>"
            ]
          },
          "metadata": {
            "tags": []
          }
        }
      ]
    },
    {
      "cell_type": "markdown",
      "metadata": {
        "id": "sh7IPvmrgwWf"
      },
      "source": [
        "결과 70.15078점"
      ]
    },
    {
      "cell_type": "markdown",
      "metadata": {
        "id": "S3Z5D96OgvWX"
      },
      "source": [
        "![image.png](data:image/png;base64,iVBORw0KGgoAAAANSUhEUgAABb0AAABICAYAAADS31jYAAAgAElEQVR4Ae3dd5xV5Z3Hcf/eP7Kv3U02ZTcbs5u4a4mukSRq7IqJWAAVAiqKYkERLMSoCIg0aUPvvfcuvYlIR0ZmYIbplV4FWUkw5rev70Oe8XC5bS5T7lw+5/W63Dv39Pd5OPec73nOc64wOgQQQAABBBBAAAEEEEAAAQQQQAABBBBAAAEEUkTgir/97W/GCwPKAGWAMkAZoAxQBigDlAHKAGWAMkAZoAxQBigDlAHKAGWAMkAZSIUyQOhN6M9FD8oAZYAyQBmgDFAGKAOUAcoAZYAyQBmgDFAGKAOUAcoAZYAykDJl4IpvvvnGeGFAGaAMUAYoA5QBygBlgDJAGaAMUAYoA5QBygBlgDJAGaAMUAYoA6lQBq74+uuvjRcGlAHKAGWAMkAZoAxQBigDlAHKAGWAMkAZoAxQBigDlAHKAGWAMpAKZeCKwsJC44UBZYAyQBmgDFAGKAOUAcoAZYAyQBmgDFAGKAOUAcoAZYAyQBmgDKRCGbgiRR7IyWoggAACCCCAAAIIIIAAAggggAACCCCAAAIIIGCE3hQCBBBAAAEEEEAAAQQQQAABBBBAAAEEEEAAgZQRIPROmU3JiiCAAAIIIIAAAggggAACCCCAAAIIIIAAAggQelMGEEAAAQQQQAABBBBAAAEEEEAAAQQQQAABBFJGgNA7ZTYlK4IAAggggAACCCCAAAIIIIAAAggggAACCCBA6E0ZQAABBBBAAAEEEEAAAQQQQAABBBBAAAEEEEgZAULvlNmUrAgCCCCAAAIIIIAAAggggAACCCCAAAIIIIAAoTdlAAEEEEAAAQQQQAABBBBAAAEEEEAAAQQQQCBlBAi9U2ZTsiIIIIAAAggggAACCCCAAAIIIIAAAggggAAChN6UAQQQQAABBBBAAAEEEEAAAQQQQAABBBBAAIGUESD0TplNyYoggAACCCCAAAIIIIAAAggggAACCCCAAAIIEHpTBhBAAAEEEEAAAQQQQAABBBBAAAEEEEAAAQRSRoDQO2U2JSuCAAIIIIAAAggggAACCCCAAAIIIIAAAgggQOhNGUAAAQQQQAABBBBAAAEEEEAAAQQQQAABBBBIGQFC75TZlKwIAggggAACCCCAAAIIIIAAAggggAACCCCAAKE3ZQABBBBAAAEEEEAAAQQQQAABBBBAAAEEEEAgZQQIvVNmU7IiCCCAAAIIIIAAAggggAACCCCAAAIIIIAAAoTelAEEEEAAAQQQQAABBBBAAAEEEEAAAQQQQACBlBEg9E6ZTcmKIIAAAggggAACCCCAAAIIIIAAAggggAACCBB6UwYQQAABBBBAAAEEEEAAAQQQQAABBBBAAAEEUkaA0DtlNiUrggACCCAggXPnztnp06ftxIkTNfbS/DRfOgQQQAABBBBAAAEEEEAAAQQQqH0BQu/a3wYsAQIIIIBAFQmcPXvWTp44YSePHLAvDpXX2Evz03w1fzoEEEAAAQQQQAABBBBAAAEEEKhdAULv2vVn7ggggAACVSSgmtYKnmsy7A6dl+ZPje8q2qBMBgEEEEAAAQQQQAABBBBAAIEEBQi9E4RjNAQQQACB5BJQEyOXUsP75MEyO7qvxA6WFtqBkgI7WFLoXofLiuzY/hJT/9CQO/RvzV/LQYcAAggggAACCCCAAAIIIIAAArUnQOhde/bMGQEEEECgCgXUhndoCF2Zv4/uK7aM9HRbsmy1jZ44y+bMX2LzFi6zVavWWcbOdDtSVhxX8K3loEMAAQQQQAABBBBAAAEEEEAAgdoTIPSuPXvmjAACCCBQhQKXEnqXFeTZyPEzrF2HPvZkm87W9MUO9srbveyNTv2se9ooGzhism3ZtMUOlRbGDNYJvatwozIpBBBAAAEEEEAAAQQQQAABBBIQIPROAI1REEAAAQSSTyDR0FvNlmzcsMmF24+1etuuvuspq9/sNXv13d4u/H6mXRfr9OFQGzNxlu3ZtctOxGjmhNA7+coGS4QAAggggAACCCCAAAIIIHB5CRB6X17bm7VFAAEEUlYgkdBbgfeh0iKbOHWu/fH9/vZYq3fszkdfsRavvm9jJ8223oPHW/v3B1jPAWNs7KRZtvHTTaZmUKI1m0LonbJFjBVDAAEEEEAAAQQQQAABBBCoIwKE3nVkQ7GYCMQj8Je//MVOnar8Q/S+/vprO3nyC9N7ZTvN76uvzlZ2tIuG17JrGb755puL+sXzxZkzZ0wvustXIJHQWw+pnDhtnqvl3enDYfbDmxrbzQ+/aF16j7C8rD22e9fnrm1vBeCbN2223Kw9duJAKaH35VvMWHMEEEAAAQQQQAABBBBAoEYFkjHvuNQMpyYACb1rQpl5IPB3Ae2oTpw4GfVV2eB37vzF9vH6T90cdqbvshGjx4cNobVDWrFqrRUVl1y0PQoKi6xv/8Gm98p0Crs1v+Ur11RmtLDDatn79h/ibIIDxDLTeqmbMn2WewXH5fPlJZBo6L1y1Vqbu2Cp9R48zm6o39Le7jrItm7eascPlJpC8X1F+Vaan2sHSwvt6L4SO3monND78iparC0CCCCAAAIIIIAAAgggUOUCylTCZUShlRITzTuUFU2aMsP+/Oc/V/myR8pwqnxGlzDBpA29FWRt35FuQ4aNtszdWRetomqDbt663dIGDrOevfvb8JHjrKjo4jDvohH5AoFaFFBArXA50uvDPgPCBr95+QWmV7hOOz8fOkcLvX1ArWFCu3Cht3a8CqG7dOt10ctPw0/Tzz90uv5v9Q83nWBAH2mHGTSTzwfde1uftEEVhn7/kOiPgF9G3uu+QCKht4Lt4ty9lp+9x+YvWm63P/qKte/c37IzM2OG25GaOKF5k7pfllgDBBBAAAEEakNAoYTCiUjnCr6ii5ZNx+oTp0y3rj36WJ+0wbZ+w8a47piMdZ6teYSbvz/m9i5bt+1w89X8x02YYocPH/G93Pl7uGnoO523K8xRxzl9BRkfalDg7NmztmDREuvdb6D7/zNi1DgrK99Xg0vArBD4VkBZid+P+/1mr74DXc6ZkbmnIhCfMHlaQpX8NP1g7vLtnCN/UjYTLr/x3/k8KFKGE3nKNd8nKUNvBXA9eqVVIHvQII9+jBWApX+eYYePHLF5Cxa7nVZZWXlwMD4jUKcEIu00ogW68YbeOrhMGzjUVq1ed5FJtNA73P8/P4HKhN5azmCn6QZ3vpHWPXQcHdQfO3Y8+LX7HM3oooH5IiUFEgm9VWtbzZUc319qRbl7LW3YRLvr8Ta2bPkaO7a/xNTmd6RwO9L3hN4pWbxYKQQQQAABBKpdwN+ZOWPWXAu+dMysc9/8gkK3DGfO/J+NHDPBho0Y6+7UXLvuE+v+YT/btHlr1GWM5zxbAYkCl6nTZ1+wDMG7Rbfv2OnO19esXe/mr9BwyPDRdvr0+WYWNWxw+fVZ09M66LNvUpFz+qibi57VIKD/O6PHTXIXdrZs3W7FxaU2feZc9zp37lw1zJFJIhBdIFworX21KvdqX+yDcO3jQzOV0CmXlJbZwCEjKsbRuJpOaKiu74MXUUOnE/w7XFbk+8eT4fhha+s9KUNvj+F/lENDN10B14/8wsVL/aCmAwTtvMIFehUD8QGBJBdQWdfdDV9+eWHb1NECXfXTjlKdxg8GycHV9f+fJk2dYX/961+DvdzBqnZ8GsZ3vqZ36P8/31/vPvSePG2mbdu+M2JtdC1f6A46dFn1twJtHXiE3srj56n/89ph78rY7b+qeI9mVDEQH1JaIJHQOxhcq+mSwpxsU9ve9zd/zTp9ONSGj51muVm7zwfgMZo18dMi9E7pYsbKIYAAAgggUKMCCul0fL8i0JygwrpefQdYaaDC16KPltnQEWNMw8fq/HlBuOP8pctXuXPtSLfCa/qaz6w5Cypmc+DgIXccr+WK1KlmuMIYVVhTxzl9JCm+r04BBX0651SZDXaJPlcqOA0+I5CIQKTQOzSfiSfv8M9qCzaXot8GXZTcf+BgRa1x9VeWE0+ni60K3/fm5LrBg/PYuGlL2JYK4pluTQ1TJ0NvH7TpBznYKXjz4V/wez4jUFcEdNEmXGgdbQenfr7chwbJfr0Vck+fOcfVBlFt7+y953dYvr8OfEN3qpUJvQcPG+VqbXzy6SY/yQve4w29fdMlOiDWVcpgpwOT/oOGu4tbuugVekAfzSg4HT6nrsClht6q7b2/uMCee72r/eahF+z2R1+2G3/3rLV//3xzJ0f3FcdV85vQO3XLGGuGAAIIIIBATQsopFPI7GtRa/46rh8zfrKr+OWXR4GEgglfG9x/H+49Wugd65haFVQ0n2BzJzrXmDBpmul8PFynCi2Dho68oCY65/ThpPiuOgVUUVL/b4IXbKpzfkwbgXgEIoXean5H/VS5UK/ho8ZdVJEw1vR95WDdZRO8SBprvGD/xUuWu1Y4FJ6rC9Ym13TDPZctOH5tf66TobfQVq5e55pqKCk5H4wdPXrMXTkO/vjWNi7zR6CyArqQE3oAq2lEO/hUP1/Tev7Cj8KG5rrlUaG2dnSqJdJvwJALDogrG3qfOnXajh8/UVHT24fukdY33tA70g5TbQSqBrxuh/zii1Ou9omC76PHjlXMMppRxUB8SGmBSw29ywpybeCISdaw5Vt27T0t7MpbmtpVtz9hP72lqXXsOdQy0tPdgyx9je5I74TeKV3MWDkEEEAAAQRqTEBh8YDBwy1Yg9qHxQq+g92hQ4etd79B7s7P4PfhPscKvcdOmGKqzDJ77kLXnKiCE9+pko1ul1f4Hex0R2a4yjsaRuci4Wqhc04fFORzdQv45j717DjV7Nbfevnmdqp7/kwfgXACykq0f1QlP19DW215K1AeP3FqRVNR/QYMrXTo7bOfUWMn2sjR4+306S/DLULE77RMqjS5dPlK9x56UVW/B5EynIgTreEedTb01o5p7vxF7qF2aq5BTZsEb/mqYUdmh0CVCCi8Dj2A1YSjBbrqpwNPhdraMQYPNhUKT5k2y7Xxpx93dfq/o3BczYTMmjPf3VoYLfQ+f/VusKvRoZrYeniBxp08daY7SND84gm91QaVltG/Qpc13A5T7arpiqLGVTuAeuiIOu2sJ06ebt169rX1n2x030UzcgPwT8oLXErofbCk0D7dsMlub/yy/c+dT9qVNzexf7r2QfuHq+636+592u5r1s46dB9sedl7YrbxTeid8kWNFUQAAQQQQKBGBBR2K/RWMOc7H3qHHn/7uzQ//uRTP2jE90iht5ocGTt+sjvu17G1HpSpZ20FmyUJd8yuGWl5tKynTp26YL6+ORQF36Ed5/ShIvxdnQL+wpBqruoO4j5pg9x5ps5Pg23WV+cyMG0EQgV0N4/PSILvoXe/Vybv0O+B8hplLqoYrP2wMlMF2HuyskMXIezf5eX73D5dFQ+VyyhvVe60ecu2iocmR/o9CDvBWvqyzobeuXkF7sdXzUHoqoVCOAV5XKWrpZLEbKMKaGfgn3Qb77t2ar6LtoNTP3/Qq/kEQ2/tqBSkh3sate6S0BVEdeFCb3/1219t1LtqeAe7SAfdwWH0WcMFp+M/B6cXaYe5NycvYlvheqClD8JVGyVS8yqhy8PfqSlwKaG32u1u/Nzb9t0bHrYHW7S379/YyL53wyP2nWsesJ/d3txueqCV3feHdrZu3SeE3qlZfFgrBBBAAAEEkkpATYaocldokyGRjr91fK0ad/E84ypS6C0AnQME2zcu37ffhYMKCtVFOmbX+YgClWBAr+F13q4a6KE1BH0/BTuc0zta/qlmAV/u+w8aVtGmt+5iUNM8CgSDdzRU86IweQRiCijLycreW/E8tmiZkJ/Yjs/S3R3yykdVSTB4Z7zK94pVa92FTLVrr8qFPkvx4+td+/8ly1a6CobBiofqp2czKEjXQ4zVRfo9cD2T5J86GXqHa8rEV//XLVJ0CNQVAR0cBkPqSMsdaQenHVK00DvS9EK/V83pz3dlRr3dRTtJPfxAO1Lt3I4cOepqiWtHrB1yZTtNT/M8dvy4GzXWDnPu/MWmV6QuVv9I4/F96ghcSug9ado8e6pNZ9eW962PvGRX3tLE/vHaBvaL+562q+96yr5zTQN7sk1n27s7k9A7dYoMa4IAAggggEDSCqjGtGpOh4bYPvRW0yPBTpVBFGTomDpW58O/eIbVtBS8q2lB1QTXOHqIZujxv5ppDHdeo5rn4cJwzuljbSX6V7WA/z/i74D209c5qdqpDy3Tvj/vCNSGQGhWdObMGdMrWqcyrn108BkQodNRReGCgqKIFQs1fU0n0t0PGt9fGNW8aN4k2haJ0S/Sj/GmLdvc1Ysvv7xwg+uHVu3+hn4fYzb0RqDWBEJ3QJEWRMG22nBSW0+65UU/ympqRDuZeELvSLfMRLt9xi+Lrv7poFpXCzVfP46u8KnZEV0tTOQOC3/QoXVQp/BbBxyRrrBHCv79csbq74fjPXUFEgm9D5UW2dJlq+3Ox9rYL+57xh56ur1rz7vBU2/az+9obj+s19h+VO9Ru/LWptap1zBbvnItoXfqFiHWDAEEEEAAgaQRUJvZupXcHysHF0whtGqnqja471STWsfqeqBlrC7SeXak8XSc7QPtSPMJt0yanppu9OMGp885fVCDzzUh4C8khTYBpP8POsfVOx0CtSHgL2bGahUgkYA53swp3Hrr2WoLFi0xvYfrCL3DqVTiu0g/xtpJhbZtpslqY4a7ilyJWTIoAjUqEO8OKC+/oOKpvXpyrx5IqVsH1bZSPKF3pOZFfDMjulNCNUPC/dDPmbfIhe3BW2M8kg7G9VBMheqV7XRrjIJ0HQgHD9gjTUfrGetHQMPQXb4ClQ29j+4rsdysPfZGx372k5ub2A31W9r9zV4zBd7/+ds/uL/1/fX1W9rQMdOsWeuOtnPHDkLvy7eIseYIIIAAAgjUmIAqgyj0Dnd8rvNhHYP7Oya1UGozO9w5crgFjnSerdp7vgafH8+3ya3b3NX54FDnMb7TeYnmHdput2qGq4Z4uGN0zum9Hu81KTBrzgL3cMBgpS1dgFETPGrzmw6BZBHQPrcqKvXGmzmFW2/9VkS7IBSr4mK4adb0d0nZvIna+VUYpyBOD87YuGmL+9tX5S8rK7fe/Qaa2hXztUL1VFG1zTRz9ry4ArSahmZ+CIQTuJQdkJ9ePKG3HzbSe6Sdmb/iqLsoInWq1RHuQDbS8PpeD1PQgYVqiesAWQ9FCD3ADh1f84g2n1j9Q6fH36knEE/offJQuZ08WOZepfm51mfweLvu3hb2w5sa249/9Zg9/Mxbdn39Z9zDK/VAy/rNXrMufUbY65362bRZC628MI/QO/WKDmuEAAIIIIBA0gmoCQaF3qpkEtrpjkkdQy9cvNSdD/tzYbXR6jvVwNNdmes3nH/ou76PdZ6tGn2Dh40yPVNHoaBukZ85e747J8/e+20NcjUpqtBdy6Zj+GUrVrsKNFqOYPfVV1/Z8JHjXCWX4Pf6zDl9qAh/14RAUVGJOw/Vs6BUdv3/HXKkmtBnHvEKqIKgmpFS4KzcM3iRJtI0lLH4u/KD7/odUWVDVXIMfq/P0ZqP1Xwi5USRliEZv0+60NuHbOFqdAYDr6zsHFerW008aCPqXTVGwzXEnozwLBMCEkj20FvL6A9qtRMNBtPa8W7avNXtjMPddhluC+uBmlOmzXIHzus+3uAGUVtRukNjyPDRFQfY4caNFWrH6h9umnyXWgLxhN5HyoutND/Hhdcz5iy2eg1a2VV3PGH/+r8N7Qc3NrLr7mnh2vWu1+B5V9P73qZt7Y3OadbkhQ5Wkp9jx/eXEnqnVrFhbRBAAAEEEEhKAZ0nRLuVXW2yqjkTnTfrXDj0gWMK9fS9fwBlPOfZOpfWXZ4KSPz5uOahWufBTucBCgk1fQ2nYfZkZQcHcZ/9wzW1LuE6zunDqfBddQv4uyj8/51JU2aY7migQ6A2BbRf1QXHUWMnVuxTdYFz2Iix7mLkZzs/r6j0G245VetarQJU5qUWBaJ1Cr0VlqtCsm8lINy7r4wcbVq11S/pQu/KQvir1cmMXNl1YvjLR6AqQm/tqPxDNxQ+h2szL5ZotCt42vnqVkV/UK2LTKo1ooMEhdXbd+yMNXnXXwfQGm/6zLkXPEVYPXWAvXrterdDVfgdfPCCn7hCbX/wHek9eGHMj8f75SOg0Pv4gdJvX/v//nl/qfmwO33HZ7Zy5Vpbs2a9PflKJ/egyuvufdp+8MtGds3dLez2xi/brxo8b7c2bG2/a/66te3Qx1q0fd9WrFxrh8uK7ORB1RT3rzI7cbDMThwode/na5CXm5aDDgEEEEAAAQQQqG4BVUhR0yL+jujQ+elZV8FKK6H9I/2t439NV69o4ytI1zAa/lI6zukvRY9xExGI9X8nkWkyDgKJCuiuGT0zTXfQKBcJVuZVWVXmoqZOuvXsG/Y5D4nON9Z4JaVlNnDIiItqiIfWGFcFyWTt6nzonaywLBcC8QjoQFEHeVXV6eJPItPzB7axDlg1fV3ZS+TgNtoBc3D942nfOzg8nxHwAgqb9+7OtOyMDMvZvduydu2yrIxdlp2ZaZnp6bZz+w4bOnqqde07yp5s09lueeQlq/dAK/vvO5+w//jN4+511Z1P2G8btraf39bcnn+zu930wHPW/v3+lp2ZYfuK8q2sINdK8nLOv+fnWGFOtuVl73F/7y/Ot4MlhYTefoPwjgACCCCAAAIIIIAAAgggEFMgnrwknmFizugyG4DQ+zLb4KwuAgggkKoCCr17DxpnvQaNs1ZvdLOOPYfaG536ufa404ZOsG5po6zNO73t0VbvuLD7Z7c1s/+6rZn98/UP2dV3P2U33v+s/frBF+z7Nzaya+9pYY2e/ZMLvT/oM9KF5WMmznLTfLNzmvXoP9q69Rtlw8ZMsyGjptj8hcts5ap1tm7dBkLvVC1grBcCCCCAAAIIIIAAAggggECdESD0rjObigVFAAEEEIgmoND7pT/2sGdf62rNW3e0Nu/0sude7+oeQKla3j0HjLFX3+3janAr/FazJv9y/cP2vRsfce16X3NPC9fEyb/96lH7Ub3G9vPbm9sz7bpY174jbdCIyTZ+yhzrM3icC7z7DhlvH/Qd6aY9ffYimzN/iS1cvMI+WrqK0DvaRqIfAggggAACCCCAAAIIIIAAAjUgQOhdA8jMAgEEEECg+gUUeqsN7hfe7O5qdPcfPsm1312cd/4BlP2GTrA3O6XZwsXL7a0uA+zWR16y717/sP3k5ibugZYv/rGHa+rk33/9mN388Ium8PvVd3u7Gt/NWne0u5u0dZ9va9Tabmvc2vTdi+172J8+GOiaQHnl7V4uWNdy0CGAAAIIIIAAAggggAACCCCAQO0JEHrXnj1zRgABBBCoQgGFzU1fes8+6DPCpsyY7x4+ub+4wPSAST1scvnyNTZt5kJb9NEKu+8P7eyqO5rbL3//rD3d9n2749FX7J4mbe2eJq/a02272M0PvehqgV9915N25a1N7Yb7W9r19Vu62uGqAX59/WfcQy9Vo7x95zT73ROv24NPt7dmrd+jpncVblMmhQACCCCAAAIIIIAAAggggEAiAoTeiagxDgIIIIBA0gko9FZt7plzFltGeroV5GTZ4fJiF3iXF+bZ/qJ8y92z2+YuWGKq1a3a3A1b/sm69B7h2ud+o1Oavdm5v73esZ+99FZP+22j1i4Y14Muf/zrx+27NzxiP/hlI/vpLU3tmrufciF4vQat7PHn33U1wjv0GGL9h00k9E66ksECIYAAAggggAACCCCAAAIIXG4ChN6X2xZnfRFAAIEUFVDo/fHHG2zjp5ts+9Ztlpe9x46UF9vB0kIryt1rR/eVWHlBnm3fss09eFLh+KjxM2z8lLmuZviIcdNt9IRZ1mvgWFMA/sTLHV3N7VsbvmT1GjxvtzZsbb9/4g33IMyW7T6wZ9p9YM+372Ft3+1jHboPse5po23A8EmE3ilavlgtBBBAAAEEEEAAAQQQQACBuiNA6F13thVLigACCCAQRUCh945t223NmvW2eeNmy8vaY6rhXbA320oLcu1wWZGV5udaaX6O7dq504Xj6z/eYFs2bbHlK9bYsDHT3MMpu/UbZa+919c69xpu7/UYam93HWTvdhtkr3fqZ+92H2xDRk+1QSOnuFrdajdc4w0aOdkUmk+btYDQO8o2ohcCCCCAAAIIIIAAAggggAACNSFA6F0TyswDAQQQQKDaBU6fPm15OTm2dctW27Rxs5Xk5VhhTrYV5+51Nb0/37nTinKzbV9RvqV/9plt27rNPln/qa1b94lr/3vVqnU2asJMmzhtno0cP8NGj59pHRRyj5pqU2cusI49h1qX3sOt3Xt9XU1wBd0Tps61j5ausrVr19tHS1fa5i3bTctBhwACCCCAAAIIIIAAAggggAACtSdA6F179swZAQQQQKAKBc6dO2dHjx517XlnZ2a6wLsoJ9ty9ux2tb13f/65+061vwv3Zlv+3izLz95jCsNVQ3zV6nW2bPlqmz3vI5s4Za4tXLzCZsxeZAsXLTfVCFewvWr1xy7kHjd5jnsg5o5t2ywjfadp2nt3Z9qxY8dMy0GHAAIIIIAAAggggAACCCCAAAK1J0DoXXv2zBkBBBBAoIoFzp49aydPHLcj+8tsX3GBlRXkWUF2luXsznRtfO8rzLdj+0tcUydq41ttfisUz8rIsOzMDMvKzHDNnajJk927drkwWw/FVI1xNZFSnJfjmk1J3/GZG1bfHygptEP7yuzEieOm+dMhgAACCCCAAAIIIIAAAggggEDtChB6164/c0cAAQQQqGIB1bRWEyNq47umXpofNbyreEMyOQQQQAABBBBAAAEEEEAAAQQSFCD0ThCO0RBAAAEEEEAAAQQQQAABBBBAAAEEEEAAAQSST4DQO/m2CUuEAAIIIIAAAggggAACCCCAAAIIIIAAAgggkMuJTlwAAAE2SURBVKAAoXeCcIyGAAIIIIAAAggggAACCCCAAAIIIIAAAgggkHwChN7Jt01YIgQQQAABBBBAAAEEEEAAAQQQQAABBBBAAIEEBQi9E4RjNAQQQAABBBBAAAEEEEAAAQQQQAABBBBAAIHkEyD0Tr5twhIhgAACCCCAAAIIIIAAAggggAACCCCAAAIIJChA6J0gHKMhgAACCCCAAAIIIIAAAggggAACCCCAAAIIJJ8AoXfybROWCAEEEEAAAQQQQAABBBBAAAEEEEAAAQQQQCBBAULvBOEYDQEEEEAAAQQQQAABBBBAAAEEEEAAAQQQQCD5BAi9k2+bsEQIIIAAAggggAACCCCAAAIIIIAAAggggAACCQoQeicIx2gIIIAAAggggAACCCCAAAIIIIAAAggggAACySfw/zaXZNLkR+cOAAAAAElFTkSuQmCC)"
      ]
    }
  ]
}