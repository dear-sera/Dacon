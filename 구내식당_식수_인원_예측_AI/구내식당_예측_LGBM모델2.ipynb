{
  "nbformat": 4,
  "nbformat_minor": 0,
  "metadata": {
    "colab": {
      "name": "구내식당_예측_LGBM모델2.ipynb",
      "provenance": [],
      "collapsed_sections": [
        "_EiUe30SViEq",
        "ZFjR65PTVkRV"
      ],
      "mount_file_id": "1HfPPE_5U3gEtPVSKQLblTl6WL8DIfs1Y",
      "authorship_tag": "ABX9TyOxdG6lZyYIOd1wOsNGhgcu",
      "include_colab_link": true
    },
    "kernelspec": {
      "name": "python3",
      "display_name": "Python 3"
    },
    "language_info": {
      "name": "python"
    },
    "accelerator": "GPU"
  },
  "cells": [
    {
      "cell_type": "markdown",
      "metadata": {
        "id": "view-in-github",
        "colab_type": "text"
      },
      "source": [
        "<a href=\"https://colab.research.google.com/github/sera0911/Dacon/blob/main/%EA%B5%AC%EB%82%B4%EC%8B%9D%EB%8B%B9_%EC%8B%9D%EC%88%98_%EC%9D%B8%EC%9B%90_%EC%98%88%EC%B8%A1_AI/%EA%B5%AC%EB%82%B4%EC%8B%9D%EB%8B%B9_%EC%98%88%EC%B8%A1_LGBM%EB%AA%A8%EB%8D%B82.ipynb\" target=\"_parent\"><img src=\"https://colab.research.google.com/assets/colab-badge.svg\" alt=\"Open In Colab\"/></a>"
      ]
    },
    {
      "cell_type": "markdown",
      "metadata": {
        "id": "2Cm2ipLlPizi"
      },
      "source": [
        "##식수인원 수치데이터로만 예측해보기"
      ]
    },
    {
      "cell_type": "code",
      "metadata": {
        "colab": {
          "base_uri": "https://localhost:8080/"
        },
        "id": "AbiLxBkgO13-",
        "outputId": "0f7715dc-9129-48a8-e339-8db80f4a3bb2"
      },
      "source": [
        "#모듈 불러오기\n",
        "\n",
        "%matplotlib inline\n",
        "import pandas as pd\n",
        "import numpy as np\n",
        "import matplotlib.pyplot as plt \n",
        "import matplotlib as mpl\n",
        "import matplotlib.font_manager as fm\n",
        "import seaborn as sns\n",
        "\n",
        "%config InlineBackend.figure_format = 'retina'\n",
        " \n",
        "!apt -qq -y install fonts-nanum\n",
        " \n",
        "fontpath = '/usr/share/fonts/truetype/nanum/NanumBarunGothic.ttf'\n",
        "font = fm.FontProperties(fname=fontpath, size=9)\n",
        "plt.rc('font', family='NanumBarunGothic') \n",
        "mpl.font_manager._rebuild()\n",
        "\n",
        "import warnings\n",
        "warnings.filterwarnings(action='ignore')"
      ],
      "execution_count": 2,
      "outputs": [
        {
          "output_type": "stream",
          "text": [
            "The following NEW packages will be installed:\n",
            "  fonts-nanum\n",
            "0 upgraded, 1 newly installed, 0 to remove and 39 not upgraded.\n",
            "Need to get 9,604 kB of archives.\n",
            "After this operation, 29.5 MB of additional disk space will be used.\n",
            "Selecting previously unselected package fonts-nanum.\n",
            "(Reading database ... 160772 files and directories currently installed.)\n",
            "Preparing to unpack .../fonts-nanum_20170925-1_all.deb ...\n",
            "Unpacking fonts-nanum (20170925-1) ...\n",
            "Setting up fonts-nanum (20170925-1) ...\n",
            "Processing triggers for fontconfig (2.12.6-0ubuntu2) ...\n"
          ],
          "name": "stdout"
        }
      ]
    },
    {
      "cell_type": "code",
      "metadata": {
        "id": "AjRpFpETPjaS"
      },
      "source": [
        "#데이터 불러오기\n",
        "\n",
        "train = pd.read_csv('/content/drive/MyDrive/구내식당AI/train.csv')\n",
        "test = pd.read_csv('/content/drive/MyDrive/구내식당AI/test.csv')"
      ],
      "execution_count": 3,
      "outputs": []
    },
    {
      "cell_type": "code",
      "metadata": {
        "colab": {
          "base_uri": "https://localhost:8080/"
        },
        "id": "HFiWuJ3vPjRr",
        "outputId": "9de7ea78-bd2b-4aab-a259-581c021f3e6b"
      },
      "source": [
        "train.info()"
      ],
      "execution_count": 4,
      "outputs": [
        {
          "output_type": "stream",
          "text": [
            "<class 'pandas.core.frame.DataFrame'>\n",
            "RangeIndex: 1205 entries, 0 to 1204\n",
            "Data columns (total 12 columns):\n",
            " #   Column          Non-Null Count  Dtype  \n",
            "---  ------          --------------  -----  \n",
            " 0   일자              1205 non-null   object \n",
            " 1   요일              1205 non-null   object \n",
            " 2   본사정원수           1205 non-null   int64  \n",
            " 3   본사휴가자수          1205 non-null   int64  \n",
            " 4   본사출장자수          1205 non-null   int64  \n",
            " 5   본사시간외근무명령서승인건수  1205 non-null   int64  \n",
            " 6   현본사소속재택근무자수     1205 non-null   float64\n",
            " 7   조식메뉴            1205 non-null   object \n",
            " 8   중식메뉴            1205 non-null   object \n",
            " 9   석식메뉴            1205 non-null   object \n",
            " 10  중식계             1205 non-null   float64\n",
            " 11  석식계             1205 non-null   float64\n",
            "dtypes: float64(3), int64(4), object(5)\n",
            "memory usage: 113.1+ KB\n"
          ],
          "name": "stdout"
        }
      ]
    },
    {
      "cell_type": "code",
      "metadata": {
        "colab": {
          "base_uri": "https://localhost:8080/"
        },
        "id": "ldev914ePjO8",
        "outputId": "be215c1c-726d-40d5-fe69-0b0f7484728e"
      },
      "source": [
        "test.info()"
      ],
      "execution_count": 5,
      "outputs": [
        {
          "output_type": "stream",
          "text": [
            "<class 'pandas.core.frame.DataFrame'>\n",
            "RangeIndex: 50 entries, 0 to 49\n",
            "Data columns (total 10 columns):\n",
            " #   Column          Non-Null Count  Dtype  \n",
            "---  ------          --------------  -----  \n",
            " 0   일자              50 non-null     object \n",
            " 1   요일              50 non-null     object \n",
            " 2   본사정원수           50 non-null     int64  \n",
            " 3   본사휴가자수          50 non-null     int64  \n",
            " 4   본사출장자수          50 non-null     int64  \n",
            " 5   본사시간외근무명령서승인건수  50 non-null     int64  \n",
            " 6   현본사소속재택근무자수     50 non-null     float64\n",
            " 7   조식메뉴            50 non-null     object \n",
            " 8   중식메뉴            50 non-null     object \n",
            " 9   석식메뉴            50 non-null     object \n",
            "dtypes: float64(1), int64(4), object(5)\n",
            "memory usage: 4.0+ KB\n"
          ],
          "name": "stdout"
        }
      ]
    },
    {
      "cell_type": "markdown",
      "metadata": {
        "id": "St3kJq89R2AL"
      },
      "source": [
        "##데이터 정제\n",
        "\n",
        "1. 조식, 중식, 석식메뉴는 버리기 (drop)\n",
        "2. 일자, 요일은 라벨 인코딩 (숫자형으로 변환)"
      ]
    },
    {
      "cell_type": "code",
      "metadata": {
        "id": "23Xy4ySOPjMS"
      },
      "source": [
        "#조식, 중식, 석식메뉴 drop\n",
        "\n",
        "drops = ['조식메뉴', '중식메뉴', '석식메뉴']\n",
        "\n",
        "train = train.drop(drops, axis=1)\n",
        "test = test.drop(drops, axis=1)"
      ],
      "execution_count": 6,
      "outputs": []
    },
    {
      "cell_type": "code",
      "metadata": {
        "id": "ioVMh1PJPjHo"
      },
      "source": [
        "#일자, 요일은 라벨 인코딩 (숫자형으로 변환)\n",
        "\n",
        "train['월'] = pd.DatetimeIndex(train['일자']).month  #일자에서 달만 인덱스해서 넣어준다\n",
        "test['월'] = pd.DatetimeIndex(test['일자']).month\n",
        "\n",
        "train['일'] = pd.DatetimeIndex(train['일자']).day  #일자에서 일만 인덱스해서 넣어준다\n",
        "test['일'] = pd.DatetimeIndex(test['일자']).day"
      ],
      "execution_count": 7,
      "outputs": []
    },
    {
      "cell_type": "code",
      "metadata": {
        "id": "WSMaPUwuSbtQ"
      },
      "source": [
        "weekday = {   #요일을 라벨을 붙여서 매핑해주기\n",
        "    '월': 1,\n",
        "    '화': 2,\n",
        "    '수': 3,\n",
        "    '목': 4,\n",
        "    '금': 5\n",
        "}\n",
        "\n",
        "train['요일'] = train['요일'].map(weekday)\n",
        "test['요일'] = test['요일'].map(weekday)"
      ],
      "execution_count": 8,
      "outputs": []
    },
    {
      "cell_type": "code",
      "metadata": {
        "colab": {
          "base_uri": "https://localhost:8080/",
          "height": 204
        },
        "id": "VHQyoHpXSbrF",
        "outputId": "c05f49e8-bd45-4aef-8a73-9c57bfb75938"
      },
      "source": [
        "#데이터 확인\n",
        "train.head()"
      ],
      "execution_count": 9,
      "outputs": [
        {
          "output_type": "execute_result",
          "data": {
            "text/html": [
              "<div>\n",
              "<style scoped>\n",
              "    .dataframe tbody tr th:only-of-type {\n",
              "        vertical-align: middle;\n",
              "    }\n",
              "\n",
              "    .dataframe tbody tr th {\n",
              "        vertical-align: top;\n",
              "    }\n",
              "\n",
              "    .dataframe thead th {\n",
              "        text-align: right;\n",
              "    }\n",
              "</style>\n",
              "<table border=\"1\" class=\"dataframe\">\n",
              "  <thead>\n",
              "    <tr style=\"text-align: right;\">\n",
              "      <th></th>\n",
              "      <th>일자</th>\n",
              "      <th>요일</th>\n",
              "      <th>본사정원수</th>\n",
              "      <th>본사휴가자수</th>\n",
              "      <th>본사출장자수</th>\n",
              "      <th>본사시간외근무명령서승인건수</th>\n",
              "      <th>현본사소속재택근무자수</th>\n",
              "      <th>중식계</th>\n",
              "      <th>석식계</th>\n",
              "      <th>월</th>\n",
              "      <th>일</th>\n",
              "    </tr>\n",
              "  </thead>\n",
              "  <tbody>\n",
              "    <tr>\n",
              "      <th>0</th>\n",
              "      <td>2016-02-01</td>\n",
              "      <td>1</td>\n",
              "      <td>2601</td>\n",
              "      <td>50</td>\n",
              "      <td>150</td>\n",
              "      <td>238</td>\n",
              "      <td>0.0</td>\n",
              "      <td>1039.0</td>\n",
              "      <td>331.0</td>\n",
              "      <td>2</td>\n",
              "      <td>1</td>\n",
              "    </tr>\n",
              "    <tr>\n",
              "      <th>1</th>\n",
              "      <td>2016-02-02</td>\n",
              "      <td>2</td>\n",
              "      <td>2601</td>\n",
              "      <td>50</td>\n",
              "      <td>173</td>\n",
              "      <td>319</td>\n",
              "      <td>0.0</td>\n",
              "      <td>867.0</td>\n",
              "      <td>560.0</td>\n",
              "      <td>2</td>\n",
              "      <td>2</td>\n",
              "    </tr>\n",
              "    <tr>\n",
              "      <th>2</th>\n",
              "      <td>2016-02-03</td>\n",
              "      <td>3</td>\n",
              "      <td>2601</td>\n",
              "      <td>56</td>\n",
              "      <td>180</td>\n",
              "      <td>111</td>\n",
              "      <td>0.0</td>\n",
              "      <td>1017.0</td>\n",
              "      <td>573.0</td>\n",
              "      <td>2</td>\n",
              "      <td>3</td>\n",
              "    </tr>\n",
              "    <tr>\n",
              "      <th>3</th>\n",
              "      <td>2016-02-04</td>\n",
              "      <td>4</td>\n",
              "      <td>2601</td>\n",
              "      <td>104</td>\n",
              "      <td>220</td>\n",
              "      <td>355</td>\n",
              "      <td>0.0</td>\n",
              "      <td>978.0</td>\n",
              "      <td>525.0</td>\n",
              "      <td>2</td>\n",
              "      <td>4</td>\n",
              "    </tr>\n",
              "    <tr>\n",
              "      <th>4</th>\n",
              "      <td>2016-02-05</td>\n",
              "      <td>5</td>\n",
              "      <td>2601</td>\n",
              "      <td>278</td>\n",
              "      <td>181</td>\n",
              "      <td>34</td>\n",
              "      <td>0.0</td>\n",
              "      <td>925.0</td>\n",
              "      <td>330.0</td>\n",
              "      <td>2</td>\n",
              "      <td>5</td>\n",
              "    </tr>\n",
              "  </tbody>\n",
              "</table>\n",
              "</div>"
            ],
            "text/plain": [
              "           일자  요일  본사정원수  본사휴가자수  본사출장자수  ...  현본사소속재택근무자수     중식계    석식계  월  일\n",
              "0  2016-02-01   1   2601      50     150  ...          0.0  1039.0  331.0  2  1\n",
              "1  2016-02-02   2   2601      50     173  ...          0.0   867.0  560.0  2  2\n",
              "2  2016-02-03   3   2601      56     180  ...          0.0  1017.0  573.0  2  3\n",
              "3  2016-02-04   4   2601     104     220  ...          0.0   978.0  525.0  2  4\n",
              "4  2016-02-05   5   2601     278     181  ...          0.0   925.0  330.0  2  5\n",
              "\n",
              "[5 rows x 11 columns]"
            ]
          },
          "metadata": {
            "tags": []
          },
          "execution_count": 9
        }
      ]
    },
    {
      "cell_type": "markdown",
      "metadata": {
        "id": "nMKuY2tyTKx9"
      },
      "source": [
        "## 데이터 정제\n",
        "\n",
        "- 휴가자, 재택근무자는 중식/석식에 참여하지 않을 것이므로 본사정원수에서 차감한다.\n",
        "\n",
        "- 즉, 본사정원수 - 휴가자 - 재택근무자\n",
        "\n",
        "- 식사참여율 = 식사계 / 식사가능자수"
      ]
    },
    {
      "cell_type": "code",
      "metadata": {
        "id": "svxaKBwUSbnp"
      },
      "source": [
        "#식사가능자수 구하기\n",
        "\n",
        "train['식사가능자수'] = train['본사정원수'] - train['본사휴가자수'] - train['현본사소속재택근무자수']\n",
        "test['식사가능자수'] = test['본사정원수'] - test['본사휴가자수'] - test['현본사소속재택근무자수']"
      ],
      "execution_count": 10,
      "outputs": []
    },
    {
      "cell_type": "code",
      "metadata": {
        "id": "D7CdnJRKSbjO"
      },
      "source": [
        "#식사 참여율 구하기\n",
        "\n",
        "train['중식참여율'] = train['중식계'] / train['식사가능자수']\n",
        "train['석식참여율'] = train['석식계'] / train['식사가능자수']"
      ],
      "execution_count": 11,
      "outputs": []
    },
    {
      "cell_type": "code",
      "metadata": {
        "id": "T3Xpxhe-Sbg7"
      },
      "source": [
        "#최종 전처리 데이터 정리(필요한 칼럼만 데이터로 사용)\n",
        "\n",
        "features = ['월', '일', '요일', '식사가능자수', '본사출장자수', '본사시간외근무명령서승인건수']\n",
        "labels = ['중식계',\t'석식계', '중식참여율', '석식참여율']\n",
        "\n",
        "train = train[features+labels]\n",
        "test = test[features]"
      ],
      "execution_count": 12,
      "outputs": []
    },
    {
      "cell_type": "code",
      "metadata": {
        "colab": {
          "base_uri": "https://localhost:8080/",
          "height": 204
        },
        "id": "xcQZskMkSbfC",
        "outputId": "12a175d9-68b9-4ee7-a4b4-f00a19b02066"
      },
      "source": [
        "train.head()"
      ],
      "execution_count": 13,
      "outputs": [
        {
          "output_type": "execute_result",
          "data": {
            "text/html": [
              "<div>\n",
              "<style scoped>\n",
              "    .dataframe tbody tr th:only-of-type {\n",
              "        vertical-align: middle;\n",
              "    }\n",
              "\n",
              "    .dataframe tbody tr th {\n",
              "        vertical-align: top;\n",
              "    }\n",
              "\n",
              "    .dataframe thead th {\n",
              "        text-align: right;\n",
              "    }\n",
              "</style>\n",
              "<table border=\"1\" class=\"dataframe\">\n",
              "  <thead>\n",
              "    <tr style=\"text-align: right;\">\n",
              "      <th></th>\n",
              "      <th>월</th>\n",
              "      <th>일</th>\n",
              "      <th>요일</th>\n",
              "      <th>식사가능자수</th>\n",
              "      <th>본사출장자수</th>\n",
              "      <th>본사시간외근무명령서승인건수</th>\n",
              "      <th>중식계</th>\n",
              "      <th>석식계</th>\n",
              "      <th>중식참여율</th>\n",
              "      <th>석식참여율</th>\n",
              "    </tr>\n",
              "  </thead>\n",
              "  <tbody>\n",
              "    <tr>\n",
              "      <th>0</th>\n",
              "      <td>2</td>\n",
              "      <td>1</td>\n",
              "      <td>1</td>\n",
              "      <td>2551.0</td>\n",
              "      <td>150</td>\n",
              "      <td>238</td>\n",
              "      <td>1039.0</td>\n",
              "      <td>331.0</td>\n",
              "      <td>0.407291</td>\n",
              "      <td>0.129753</td>\n",
              "    </tr>\n",
              "    <tr>\n",
              "      <th>1</th>\n",
              "      <td>2</td>\n",
              "      <td>2</td>\n",
              "      <td>2</td>\n",
              "      <td>2551.0</td>\n",
              "      <td>173</td>\n",
              "      <td>319</td>\n",
              "      <td>867.0</td>\n",
              "      <td>560.0</td>\n",
              "      <td>0.339867</td>\n",
              "      <td>0.219522</td>\n",
              "    </tr>\n",
              "    <tr>\n",
              "      <th>2</th>\n",
              "      <td>2</td>\n",
              "      <td>3</td>\n",
              "      <td>3</td>\n",
              "      <td>2545.0</td>\n",
              "      <td>180</td>\n",
              "      <td>111</td>\n",
              "      <td>1017.0</td>\n",
              "      <td>573.0</td>\n",
              "      <td>0.399607</td>\n",
              "      <td>0.225147</td>\n",
              "    </tr>\n",
              "    <tr>\n",
              "      <th>3</th>\n",
              "      <td>2</td>\n",
              "      <td>4</td>\n",
              "      <td>4</td>\n",
              "      <td>2497.0</td>\n",
              "      <td>220</td>\n",
              "      <td>355</td>\n",
              "      <td>978.0</td>\n",
              "      <td>525.0</td>\n",
              "      <td>0.391670</td>\n",
              "      <td>0.210252</td>\n",
              "    </tr>\n",
              "    <tr>\n",
              "      <th>4</th>\n",
              "      <td>2</td>\n",
              "      <td>5</td>\n",
              "      <td>5</td>\n",
              "      <td>2323.0</td>\n",
              "      <td>181</td>\n",
              "      <td>34</td>\n",
              "      <td>925.0</td>\n",
              "      <td>330.0</td>\n",
              "      <td>0.398192</td>\n",
              "      <td>0.142058</td>\n",
              "    </tr>\n",
              "  </tbody>\n",
              "</table>\n",
              "</div>"
            ],
            "text/plain": [
              "   월  일  요일  식사가능자수  본사출장자수  본사시간외근무명령서승인건수     중식계    석식계     중식참여율     석식참여율\n",
              "0  2  1   1  2551.0     150             238  1039.0  331.0  0.407291  0.129753\n",
              "1  2  2   2  2551.0     173             319   867.0  560.0  0.339867  0.219522\n",
              "2  2  3   3  2545.0     180             111  1017.0  573.0  0.399607  0.225147\n",
              "3  2  4   4  2497.0     220             355   978.0  525.0  0.391670  0.210252\n",
              "4  2  5   5  2323.0     181              34   925.0  330.0  0.398192  0.142058"
            ]
          },
          "metadata": {
            "tags": []
          },
          "execution_count": 13
        }
      ]
    },
    {
      "cell_type": "markdown",
      "metadata": {
        "id": "22ehqZoUT4rq"
      },
      "source": [
        "##EDA, 시각화, 상관관계분석\n"
      ]
    },
    {
      "cell_type": "code",
      "metadata": {
        "id": "i8D45kDPWgl7"
      },
      "source": [
        "# 요일을 석식 rank에 맞춰 mapping한 요일(석식) 칼럼 만들기.\n",
        "\n",
        "weekday_rank4dinner = {\n",
        "    1: 1,\n",
        "    2: 2,\n",
        "    3: 5,\n",
        "    4: 3,\n",
        "    5: 4,\n",
        "}\n",
        "\n",
        "train['요일(석식)'] = train['요일'].map(weekday_rank4dinner)\n",
        "test['요일(석식)'] = test['요일'].map(weekday_rank4dinner)"
      ],
      "execution_count": 23,
      "outputs": []
    },
    {
      "cell_type": "code",
      "metadata": {
        "colab": {
          "base_uri": "https://localhost:8080/",
          "height": 204
        },
        "id": "qF71XB00XzXF",
        "outputId": "6b4ba319-9df2-4a92-ccf3-0273130ecc15"
      },
      "source": [
        "train.head()"
      ],
      "execution_count": 24,
      "outputs": [
        {
          "output_type": "execute_result",
          "data": {
            "text/html": [
              "<div>\n",
              "<style scoped>\n",
              "    .dataframe tbody tr th:only-of-type {\n",
              "        vertical-align: middle;\n",
              "    }\n",
              "\n",
              "    .dataframe tbody tr th {\n",
              "        vertical-align: top;\n",
              "    }\n",
              "\n",
              "    .dataframe thead th {\n",
              "        text-align: right;\n",
              "    }\n",
              "</style>\n",
              "<table border=\"1\" class=\"dataframe\">\n",
              "  <thead>\n",
              "    <tr style=\"text-align: right;\">\n",
              "      <th></th>\n",
              "      <th>월</th>\n",
              "      <th>일</th>\n",
              "      <th>요일</th>\n",
              "      <th>식사가능자수</th>\n",
              "      <th>본사출장자수</th>\n",
              "      <th>본사시간외근무명령서승인건수</th>\n",
              "      <th>중식계</th>\n",
              "      <th>석식계</th>\n",
              "      <th>중식참여율</th>\n",
              "      <th>석식참여율</th>\n",
              "      <th>요일(석식)</th>\n",
              "    </tr>\n",
              "  </thead>\n",
              "  <tbody>\n",
              "    <tr>\n",
              "      <th>0</th>\n",
              "      <td>2</td>\n",
              "      <td>1</td>\n",
              "      <td>1</td>\n",
              "      <td>2551.0</td>\n",
              "      <td>150</td>\n",
              "      <td>238</td>\n",
              "      <td>1039.0</td>\n",
              "      <td>331.0</td>\n",
              "      <td>0.407291</td>\n",
              "      <td>0.129753</td>\n",
              "      <td>1</td>\n",
              "    </tr>\n",
              "    <tr>\n",
              "      <th>1</th>\n",
              "      <td>2</td>\n",
              "      <td>2</td>\n",
              "      <td>2</td>\n",
              "      <td>2551.0</td>\n",
              "      <td>173</td>\n",
              "      <td>319</td>\n",
              "      <td>867.0</td>\n",
              "      <td>560.0</td>\n",
              "      <td>0.339867</td>\n",
              "      <td>0.219522</td>\n",
              "      <td>2</td>\n",
              "    </tr>\n",
              "    <tr>\n",
              "      <th>2</th>\n",
              "      <td>2</td>\n",
              "      <td>3</td>\n",
              "      <td>3</td>\n",
              "      <td>2545.0</td>\n",
              "      <td>180</td>\n",
              "      <td>111</td>\n",
              "      <td>1017.0</td>\n",
              "      <td>573.0</td>\n",
              "      <td>0.399607</td>\n",
              "      <td>0.225147</td>\n",
              "      <td>5</td>\n",
              "    </tr>\n",
              "    <tr>\n",
              "      <th>3</th>\n",
              "      <td>2</td>\n",
              "      <td>4</td>\n",
              "      <td>4</td>\n",
              "      <td>2497.0</td>\n",
              "      <td>220</td>\n",
              "      <td>355</td>\n",
              "      <td>978.0</td>\n",
              "      <td>525.0</td>\n",
              "      <td>0.391670</td>\n",
              "      <td>0.210252</td>\n",
              "      <td>3</td>\n",
              "    </tr>\n",
              "    <tr>\n",
              "      <th>4</th>\n",
              "      <td>2</td>\n",
              "      <td>5</td>\n",
              "      <td>5</td>\n",
              "      <td>2323.0</td>\n",
              "      <td>181</td>\n",
              "      <td>34</td>\n",
              "      <td>925.0</td>\n",
              "      <td>330.0</td>\n",
              "      <td>0.398192</td>\n",
              "      <td>0.142058</td>\n",
              "      <td>4</td>\n",
              "    </tr>\n",
              "  </tbody>\n",
              "</table>\n",
              "</div>"
            ],
            "text/plain": [
              "   월  일  요일  식사가능자수  본사출장자수  ...     중식계    석식계     중식참여율     석식참여율  요일(석식)\n",
              "0  2  1   1  2551.0     150  ...  1039.0  331.0  0.407291  0.129753       1\n",
              "1  2  2   2  2551.0     173  ...   867.0  560.0  0.339867  0.219522       2\n",
              "2  2  3   3  2545.0     180  ...  1017.0  573.0  0.399607  0.225147       5\n",
              "3  2  4   4  2497.0     220  ...   978.0  525.0  0.391670  0.210252       3\n",
              "4  2  5   5  2323.0     181  ...   925.0  330.0  0.398192  0.142058       4\n",
              "\n",
              "[5 rows x 11 columns]"
            ]
          },
          "metadata": {
            "tags": []
          },
          "execution_count": 24
        }
      ]
    },
    {
      "cell_type": "markdown",
      "metadata": {
        "id": "ongfOxtDYBCY"
      },
      "source": [
        "## 모델 만들기"
      ]
    },
    {
      "cell_type": "code",
      "metadata": {
        "colab": {
          "base_uri": "https://localhost:8080/",
          "height": 204
        },
        "id": "N_K97fCMXzTE",
        "outputId": "d348a096-ce89-453a-d00f-84d491e567b2"
      },
      "source": [
        "#제출용 데이터 가져오기\n",
        "\n",
        "submit = pd.read_csv('/content/drive/MyDrive/구내식당AI/sample_submission.csv')\n",
        "submit.head()"
      ],
      "execution_count": 25,
      "outputs": [
        {
          "output_type": "execute_result",
          "data": {
            "text/html": [
              "<div>\n",
              "<style scoped>\n",
              "    .dataframe tbody tr th:only-of-type {\n",
              "        vertical-align: middle;\n",
              "    }\n",
              "\n",
              "    .dataframe tbody tr th {\n",
              "        vertical-align: top;\n",
              "    }\n",
              "\n",
              "    .dataframe thead th {\n",
              "        text-align: right;\n",
              "    }\n",
              "</style>\n",
              "<table border=\"1\" class=\"dataframe\">\n",
              "  <thead>\n",
              "    <tr style=\"text-align: right;\">\n",
              "      <th></th>\n",
              "      <th>일자</th>\n",
              "      <th>중식계</th>\n",
              "      <th>석식계</th>\n",
              "    </tr>\n",
              "  </thead>\n",
              "  <tbody>\n",
              "    <tr>\n",
              "      <th>0</th>\n",
              "      <td>2021-01-27</td>\n",
              "      <td>0</td>\n",
              "      <td>0</td>\n",
              "    </tr>\n",
              "    <tr>\n",
              "      <th>1</th>\n",
              "      <td>2021-01-28</td>\n",
              "      <td>0</td>\n",
              "      <td>0</td>\n",
              "    </tr>\n",
              "    <tr>\n",
              "      <th>2</th>\n",
              "      <td>2021-01-29</td>\n",
              "      <td>0</td>\n",
              "      <td>0</td>\n",
              "    </tr>\n",
              "    <tr>\n",
              "      <th>3</th>\n",
              "      <td>2021-02-01</td>\n",
              "      <td>0</td>\n",
              "      <td>0</td>\n",
              "    </tr>\n",
              "    <tr>\n",
              "      <th>4</th>\n",
              "      <td>2021-02-02</td>\n",
              "      <td>0</td>\n",
              "      <td>0</td>\n",
              "    </tr>\n",
              "  </tbody>\n",
              "</table>\n",
              "</div>"
            ],
            "text/plain": [
              "           일자  중식계  석식계\n",
              "0  2021-01-27    0    0\n",
              "1  2021-01-28    0    0\n",
              "2  2021-01-29    0    0\n",
              "3  2021-02-01    0    0\n",
              "4  2021-02-02    0    0"
            ]
          },
          "metadata": {
            "tags": []
          },
          "execution_count": 25
        }
      ]
    },
    {
      "cell_type": "code",
      "metadata": {
        "id": "xD-dI6SMcKSB",
        "colab": {
          "base_uri": "https://localhost:8080/"
        },
        "outputId": "c9e0ad12-c4cf-45a8-81f2-2a0be5e1ca96"
      },
      "source": [
        "from sklearn.model_selection import train_test_split, KFold, cross_val_score, RandomizedSearchCV\n",
        "from lightgbm import LGBMRegressor\n",
        "\n",
        "# 과적합을 방지하기 위해 KFold 사용\n",
        "kfold = KFold(n_splits=3, shuffle=True)\n",
        "\n",
        "# LightGBM Regressor 사용\n",
        "lgbmr = LGBMRegressor()\n",
        "\n",
        "# 파라미터들 dict 형태로 정의\n",
        "param = {\n",
        "    'max_depth': [10, 15, -1], # 트리의 최대 깊이  / 과적합 제어\n",
        "    'learning_rate': [0.1, 0.003], # 학습률\n",
        "    'num_leaves': [64,128, 128], # 각 트리가 가질 수 있는 최대 리프의 개수 / 정확도 및 복잡률과 비례\n",
        "    'n_estimators': [2000, 3000], # 반복 수행하는 트리의 개수\n",
        "    }\n",
        "\n",
        "# RandomizedSearchCV를 사용해 하이퍼 파라미터 최적화\n",
        "lunch_model = RandomizedSearchCV(lgbmr, # 사용 모델\n",
        "                                scoring='r2', # 학습에 사용할 손실 함수\n",
        "                                n_iter=50, # 파라미터별 학습 수\n",
        "                                param_distributions=param, # 파라미터\n",
        "                                cv=kfold, # 폴드 값에 KFold 객체 할당\n",
        "                                return_train_score=True, # 학습 결과 리턴\n",
        "                                verbose=1)\n",
        "\n",
        "x = train[['월', '일', '요일', '식사가능자수', '본사출장자수', '본사시간외근무명령서승인건수']]\n",
        "y = train['중식계']\n",
        "\n",
        "# GridSearch 하면서 모든 파라미터값들에 대해 학습 수행\n",
        "lunch_model.fit(x, y)\n",
        "print(lunch_model.best_score_, lunch_model.best_params_)\n",
        "lunch_model = lunch_model.best_estimator_"
      ],
      "execution_count": 26,
      "outputs": [
        {
          "output_type": "stream",
          "text": [
            "Fitting 3 folds for each of 36 candidates, totalling 108 fits\n"
          ],
          "name": "stdout"
        },
        {
          "output_type": "stream",
          "text": [
            "[Parallel(n_jobs=1)]: Using backend SequentialBackend with 1 concurrent workers.\n",
            "[Parallel(n_jobs=1)]: Done 108 out of 108 | elapsed:  2.8min finished\n"
          ],
          "name": "stderr"
        },
        {
          "output_type": "stream",
          "text": [
            "0.7556948565336467 {'num_leaves': 64, 'n_estimators': 2000, 'max_depth': 10, 'learning_rate': 0.003}\n"
          ],
          "name": "stdout"
        }
      ]
    },
    {
      "cell_type": "code",
      "metadata": {
        "id": "QgYFxP2UXzIT"
      },
      "source": [
        "#모델 적용시켜 예측하기\n",
        "\n",
        "test_x = test[['월', '일', '요일', '식사가능자수', '본사출장자수', '본사시간외근무명령서승인건수']]\n",
        "y_pred = lunch_model.predict(test_x)"
      ],
      "execution_count": 27,
      "outputs": []
    },
    {
      "cell_type": "code",
      "metadata": {
        "colab": {
          "base_uri": "https://localhost:8080/"
        },
        "id": "shSEpFR1aou4",
        "outputId": "f22cfb46-d235-4792-ca24-908b65fbcd76"
      },
      "source": [
        "print(y_pred)"
      ],
      "execution_count": 28,
      "outputs": [
        {
          "output_type": "stream",
          "text": [
            "[1069.71779918 1002.26478679  556.53502331 1262.6623516  1056.05660444\n",
            " 1076.59106738 1036.32300792  702.00665611 1257.38585476 1064.39873475\n",
            "  882.01715664 1319.38694945 1116.4334163  1105.40572528  918.52612642\n",
            "  697.70356661 1301.25386969 1089.76617229  913.92390081  970.07831859\n",
            "  653.55874324 1087.53241217 1098.91409877 1020.44678828  630.30383623\n",
            " 1326.94984317 1105.61745556 1091.74652962 1030.59905658  677.90171804\n",
            " 1313.47571102 1044.05902011 1085.12985431  941.57950985  668.78352353\n",
            " 1272.39943736  975.44674462  975.653785    935.65616968  607.48551976\n",
            " 1237.11537635 1036.98702416  987.4284704   898.1350163   662.95241053\n",
            " 1199.16465247 1040.73738845 1010.27956491  930.53091169  667.50636186]\n"
          ],
          "name": "stdout"
        }
      ]
    },
    {
      "cell_type": "code",
      "metadata": {
        "id": "XKVBoTevXzFu"
      },
      "source": [
        "submit['중식계'] = y_pred"
      ],
      "execution_count": 29,
      "outputs": []
    },
    {
      "cell_type": "code",
      "metadata": {
        "id": "lYtkZHeidAbp",
        "colab": {
          "base_uri": "https://localhost:8080/"
        },
        "outputId": "4407c9f4-3b26-429a-9e5a-ffb6e333cd23"
      },
      "source": [
        "lgbmr = LGBMRegressor()\n",
        "\n",
        "# 파라미터들 dict 형태로 정의\n",
        "param = {\n",
        "    'max_depth': [10, 15, -1], # 트리의 최대 깊이  / 과적합 제어\n",
        "    'learning_rate': [0.1, 0.003], # 학습률\n",
        "    'num_leaves': [64,128, 128], # 각 트리가 가질 수 있는 최대 리프의 개수 / 정확도 및 복잡률과 비례\n",
        "    'n_estimators': [2000, 3000], # 반복 수행하는 트리의 개수\n",
        "    }\n",
        "\n",
        "# RandomizedSearchCV를 사용해 하이퍼 파라미터 최적화\n",
        "dinner_model = RandomizedSearchCV(lgbmr, # 사용 모델\n",
        "                                scoring='r2', # 학습에 사용할 손실 함수\n",
        "                                n_iter=50, # 파라미터별 학습 수\n",
        "                                param_distributions=param, # 파라미터\n",
        "                                cv=kfold, # 폴드 값에 KFold 객체 할당\n",
        "                                return_train_score=True, # 학습 결과 리턴\n",
        "                                verbose=1)\n",
        "\n",
        "x = train[['월', '일', '요일(석식)', '식사가능자수', '본사출장자수', '본사시간외근무명령서승인건수']]\n",
        "y = train['석식계']\n",
        "\n",
        "# GridSearch 하면서 모든 파라미터값들에 대해 학습 수행\n",
        "dinner_model.fit(x, y)\n",
        "print(dinner_model.best_score_, dinner_model.best_params_)\n",
        "dinner_model = dinner_model.best_estimator_"
      ],
      "execution_count": 30,
      "outputs": [
        {
          "output_type": "stream",
          "text": [
            "Fitting 3 folds for each of 36 candidates, totalling 108 fits\n"
          ],
          "name": "stdout"
        },
        {
          "output_type": "stream",
          "text": [
            "[Parallel(n_jobs=1)]: Using backend SequentialBackend with 1 concurrent workers.\n",
            "[Parallel(n_jobs=1)]: Done 108 out of 108 | elapsed:  2.8min finished\n"
          ],
          "name": "stderr"
        },
        {
          "output_type": "stream",
          "text": [
            "0.5811249092953049 {'num_leaves': 64, 'n_estimators': 2000, 'max_depth': 10, 'learning_rate': 0.003}\n"
          ],
          "name": "stdout"
        }
      ]
    },
    {
      "cell_type": "code",
      "metadata": {
        "id": "WATW6F-cWggX"
      },
      "source": [
        "#모델 적용시켜 예측하기\n",
        "\n",
        "test_x = test[['월', '일', '요일(석식)', '식사가능자수', '본사출장자수', '본사시간외근무명령서승인건수']]\n",
        "y_pred = dinner_model.predict(test_x)"
      ],
      "execution_count": 31,
      "outputs": []
    },
    {
      "cell_type": "code",
      "metadata": {
        "id": "p_suc-vdWgeT"
      },
      "source": [
        "submit['석식계'] = y_pred"
      ],
      "execution_count": 32,
      "outputs": []
    },
    {
      "cell_type": "code",
      "metadata": {
        "colab": {
          "base_uri": "https://localhost:8080/",
          "height": 17
        },
        "id": "uwD22qN1Wgb6",
        "outputId": "b7a451f0-8e08-4372-d4bc-eb7ab9388b2e"
      },
      "source": [
        "#예측한 모델결과 저장하기\n",
        "\n",
        "submit.to_csv('/content/drive/MyDrive/구내식당AI/LGBM_submit2.csv', index=False)\n",
        "\n",
        "from google.colab import files\n",
        "\n",
        "files.download('/content/drive/MyDrive/구내식당AI/LGBM_submit2.csv')"
      ],
      "execution_count": 33,
      "outputs": [
        {
          "output_type": "display_data",
          "data": {
            "application/javascript": [
              "\n",
              "    async function download(id, filename, size) {\n",
              "      if (!google.colab.kernel.accessAllowed) {\n",
              "        return;\n",
              "      }\n",
              "      const div = document.createElement('div');\n",
              "      const label = document.createElement('label');\n",
              "      label.textContent = `Downloading \"${filename}\": `;\n",
              "      div.appendChild(label);\n",
              "      const progress = document.createElement('progress');\n",
              "      progress.max = size;\n",
              "      div.appendChild(progress);\n",
              "      document.body.appendChild(div);\n",
              "\n",
              "      const buffers = [];\n",
              "      let downloaded = 0;\n",
              "\n",
              "      const channel = await google.colab.kernel.comms.open(id);\n",
              "      // Send a message to notify the kernel that we're ready.\n",
              "      channel.send({})\n",
              "\n",
              "      for await (const message of channel.messages) {\n",
              "        // Send a message to notify the kernel that we're ready.\n",
              "        channel.send({})\n",
              "        if (message.buffers) {\n",
              "          for (const buffer of message.buffers) {\n",
              "            buffers.push(buffer);\n",
              "            downloaded += buffer.byteLength;\n",
              "            progress.value = downloaded;\n",
              "          }\n",
              "        }\n",
              "      }\n",
              "      const blob = new Blob(buffers, {type: 'application/binary'});\n",
              "      const a = document.createElement('a');\n",
              "      a.href = window.URL.createObjectURL(blob);\n",
              "      a.download = filename;\n",
              "      div.appendChild(a);\n",
              "      a.click();\n",
              "      div.remove();\n",
              "    }\n",
              "  "
            ],
            "text/plain": [
              "<IPython.core.display.Javascript object>"
            ]
          },
          "metadata": {
            "tags": []
          }
        },
        {
          "output_type": "display_data",
          "data": {
            "application/javascript": [
              "download(\"download_7db8a458-6001-4c52-a84b-f374cd8dc511\", \"LGBM_submit2.csv\", 2394)"
            ],
            "text/plain": [
              "<IPython.core.display.Javascript object>"
            ]
          },
          "metadata": {
            "tags": []
          }
        }
      ]
    },
    {
      "cell_type": "code",
      "metadata": {
        "colab": {
          "base_uri": "https://localhost:8080/"
        },
        "id": "zJdn_9SO_5En",
        "outputId": "31c0e29b-365d-4664-be2f-4a3eca6e9bd7"
      },
      "source": [
        "from google.colab import drive\n",
        "drive.mount('/content/drive')"
      ],
      "execution_count": 34,
      "outputs": [
        {
          "output_type": "stream",
          "text": [
            "Drive already mounted at /content/drive; to attempt to forcibly remount, call drive.mount(\"/content/drive\", force_remount=True).\n"
          ],
          "name": "stdout"
        }
      ]
    },
    {
      "cell_type": "markdown",
      "metadata": {
        "id": "sh7IPvmrgwWf"
      },
      "source": [
        "결과 70.39732점"
      ]
    },
    {
      "cell_type": "markdown",
      "metadata": {
        "id": "S3Z5D96OgvWX"
      },
      "source": [
        "![image.png](data:image/png;base64,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)"
      ]
    },
    {
      "cell_type": "markdown",
      "metadata": {
        "id": "OGsiqqBwDJng"
      },
      "source": [
        "파라미터를 변경 했는데 기존보다 조금 더 점수가 떨어졌다\n",
        "\n",
        "![image.png](data:image/png;base64,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)"
      ]
    }
  ]
}